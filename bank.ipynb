{
 "cells": [
  {
   "cell_type": "code",
   "execution_count": 1,
   "metadata": {},
   "outputs": [
    {
     "name": "stdout",
     "output_type": "stream",
     "text": [
      "          Country                                                URL\n",
      "0     Afghanistan  https://data.worldbank.org/country/afghanistan...\n",
      "1         Albania  https://data.worldbank.org/country/albania?vie...\n",
      "2         Algeria  https://data.worldbank.org/country/algeria?vie...\n",
      "3  American Samoa  https://data.worldbank.org/country/american-sa...\n",
      "4         Andorra  https://data.worldbank.org/country/andorra?vie...\n"
     ]
    }
   ],
   "source": [
    "from selenium import webdriver\n",
    "from selenium.webdriver.common.by import By\n",
    "from selenium.webdriver.chrome.service import Service\n",
    "from selenium.webdriver.common.action_chains import ActionChains\n",
    "from webdriver_manager.chrome import ChromeDriverManager\n",
    "import pandas as pd\n",
    "import time\n",
    "\n",
    "# Set up Selenium WebDriver\n",
    "options = webdriver.ChromeOptions()\n",
    "options.add_argument(\"--headless\")  # Run in headless mode for faster execution\n",
    "options.add_argument(\"--no-sandbox\")\n",
    "options.add_argument(\"--disable-dev-shm-usage\")\n",
    "\n",
    "# Initialize WebDriver\n",
    "service = Service(ChromeDriverManager().install())\n",
    "driver = webdriver.Chrome(service=service, options=options)\n",
    "\n",
    "# Open the World Bank Country Data page\n",
    "url = \"https://data.worldbank.org/country\"\n",
    "driver.get(url)\n",
    "time.sleep(5)  # Allow page to load\n",
    "\n",
    "# Fetch all country links\n",
    "countries = driver.find_elements(By.CSS_SELECTOR, \"a[href^='/country/']\")\n",
    "\n",
    "# Extract country names and URLs\n",
    "country_data = []\n",
    "for country in countries:\n",
    "    name = country.text.strip()\n",
    "    link = country.get_attribute(\"href\")\n",
    "    if name:  # Ensure non-empty names\n",
    "        country_data.append({\"Country\": name, \"URL\": link})\n",
    "\n",
    "# Close the driver\n",
    "driver.quit()\n",
    "\n",
    "# Convert to DataFrame\n",
    "df_countries = pd.DataFrame(country_data)\n",
    "\n",
    "# Save to CSV\n",
    "df_countries.to_csv(\"worldbank_countries.csv\", index=False)\n",
    "\n",
    "# Display the first few rows\n",
    "print(df_countries.head())\n"
   ]
  }
 ],
 "metadata": {
  "kernelspec": {
   "display_name": "venv",
   "language": "python",
   "name": "python3"
  },
  "language_info": {
   "codemirror_mode": {
    "name": "ipython",
    "version": 3
   },
   "file_extension": ".py",
   "mimetype": "text/x-python",
   "name": "python",
   "nbconvert_exporter": "python",
   "pygments_lexer": "ipython3",
   "version": "3.13.2"
  }
 },
 "nbformat": 4,
 "nbformat_minor": 2
}
