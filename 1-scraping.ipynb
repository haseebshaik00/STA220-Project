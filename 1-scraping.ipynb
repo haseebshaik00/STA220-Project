{
 "cells": [
  {
   "cell_type": "markdown",
   "metadata": {},
   "source": [
    "# Web Scraping"
   ]
  },
  {
   "cell_type": "markdown",
   "metadata": {},
   "source": [
    "## (1) Population of Countries"
   ]
  },
  {
   "cell_type": "code",
   "execution_count": 67,
   "metadata": {},
   "outputs": [
    {
     "name": "stdout",
     "output_type": "stream",
     "text": [
      "[<th class=\"datatable-th sticky top-0 text-nowrap border-none border-wpr-table_border bg-wpr-table_header_bg px-3 py-2 text-left align-bottom leading-4 text-wpr-table_header md:px-4 sticky left-0 z-50 font-bold pointer-events-none\" data-field=\"flagCode\" style=\"\"> <div class=\"relative flex flex-col items-stretch justify-start bg-wpr-table_header_bg\"> <div class=\"flex cursor-pointer select-none flex-row items-center\"> <span class=\"sort-indicator ml-1\"> </span> </div> </div> </th>, <th class=\"datatable-th sticky top-0 text-nowrap border-none border-wpr-table_border bg-wpr-table_header_bg px-3 py-2 text-left align-bottom leading-4 text-wpr-table_header md:px-4 z-40 false\" data-field=\"country\" style=\"\"> <div class=\"relative flex flex-col items-stretch justify-start bg-wpr-table_header_bg\"> <div class=\"flex cursor-pointer select-none flex-row items-center\"> Country <span class=\"sort-indicator ml-1\"> </span> </div> </div> </th>, <th class=\"datatable-th sticky top-0 text-nowrap border-none border-wpr-table_border bg-wpr-table_header_bg px-3 py-2 text-left align-bottom leading-4 text-wpr-table_header md:px-4 z-40 false\" data-field=\"pop2025\" style=\"\"> <div class=\"relative flex flex-col items-stretch justify-start bg-wpr-table_header_bg\"> <div class=\"flex cursor-pointer select-none flex-row items-center\"> 2025 Pop. <span class=\"sort-indicator ml-1\"> </span> </div> </div> </th>, <th class=\"datatable-th sticky top-0 text-nowrap border-none border-wpr-table_border bg-wpr-table_header_bg px-3 py-2 text-left align-bottom leading-4 text-wpr-table_header md:px-4 z-40 false\" data-field=\"area\" style=\"\"> <div class=\"relative flex flex-col items-stretch justify-start bg-wpr-table_header_bg\"> <div class=\"flex cursor-pointer select-none flex-row items-center\"> Area (kmÂ²) <span class=\"sort-indicator ml-1\"> </span> </div> </div> </th>, <th class=\"datatable-th sticky top-0 text-nowrap border-none border-wpr-table_border bg-wpr-table_header_bg px-3 py-2 text-left align-bottom leading-4 text-wpr-table_header md:px-4 z-40 false\" data-field=\"density\" style=\"\"> <div class=\"relative flex flex-col items-stretch justify-start bg-wpr-table_header_bg\"> <div class=\"flex cursor-pointer select-none flex-row items-center\"> Density <span class=\"sort-indicator ml-1\"> </span> </div> </div> </th>, <th class=\"datatable-th sticky top-0 text-nowrap border-none border-wpr-table_border bg-wpr-table_header_bg px-3 py-2 text-left align-bottom leading-4 text-wpr-table_header md:px-4 z-40 false\" data-field=\"growthRate\" style=\"\"> <div class=\"relative flex flex-col items-stretch justify-start bg-wpr-table_header_bg\"> <div class=\"flex cursor-pointer select-none flex-row items-center\"> Change <span class=\"sort-indicator ml-1\"> </span> </div> </div> </th>, <th class=\"datatable-th sticky top-0 text-nowrap border-none border-wpr-table_border bg-wpr-table_header_bg px-3 py-2 text-left align-bottom leading-4 text-wpr-table_header md:px-4 z-40 false\" data-field=\"worldPercentage\" style=\"\"> <div class=\"relative flex flex-col items-stretch justify-start bg-wpr-table_header_bg\"> <div class=\"flex cursor-pointer select-none flex-row items-center\"> % Global Pop <span class=\"sort-indicator ml-1\"> </span> </div> </div> </th>, <th class=\"datatable-th sticky top-0 text-nowrap border-none border-wpr-table_border bg-wpr-table_header_bg px-3 py-2 text-left align-bottom leading-4 text-wpr-table_header md:px-4 z-40 false\" data-field=\"rank\" style=\"\"> <div class=\"relative flex flex-col items-stretch justify-start bg-wpr-table_header_bg\"> <div class=\"flex cursor-pointer select-none flex-row items-center\"> Rank <span class=\"sort-indicator ml-1\"> </span> </div> </div> </th>]\n"
     ]
    }
   ],
   "source": [
    "from bs4 import BeautifulSoup\n",
    "import requests\n",
    "import pandas as pd\n",
    "\n",
    "url = 'https://worldpopulationreview.com/countries'\n",
    "page=requests.get(url)\n",
    "soup= BeautifulSoup(page.text, 'html')\n",
    "table=soup.find_all('table')[0]\n",
    "columns=table.find_all('th')\n",
    "print(columns)"
   ]
  },
  {
   "cell_type": "code",
   "execution_count": 68,
   "metadata": {},
   "outputs": [
    {
     "name": "stdout",
     "output_type": "stream",
     "text": [
      "Columns:\n"
     ]
    },
    {
     "data": {
      "text/html": [
       "<div>\n",
       "<style scoped>\n",
       "    .dataframe tbody tr th:only-of-type {\n",
       "        vertical-align: middle;\n",
       "    }\n",
       "\n",
       "    .dataframe tbody tr th {\n",
       "        vertical-align: top;\n",
       "    }\n",
       "\n",
       "    .dataframe thead th {\n",
       "        text-align: right;\n",
       "    }\n",
       "</style>\n",
       "<table border=\"1\" class=\"dataframe\">\n",
       "  <thead>\n",
       "    <tr style=\"text-align: right;\">\n",
       "      <th></th>\n",
       "      <th>Country</th>\n",
       "      <th>2025 Pop.</th>\n",
       "      <th>Area (kmÂ²)</th>\n",
       "      <th>Density</th>\n",
       "      <th>Change</th>\n",
       "      <th>% Global Pop</th>\n",
       "      <th>Rank</th>\n",
       "    </tr>\n",
       "  </thead>\n",
       "  <tbody>\n",
       "  </tbody>\n",
       "</table>\n",
       "</div>"
      ],
      "text/plain": [
       "Empty DataFrame\n",
       "Columns: [Country, 2025 Pop., Area (kmÂ²), Density, Change, % Global Pop, Rank]\n",
       "Index: []"
      ]
     },
     "metadata": {},
     "output_type": "display_data"
    }
   ],
   "source": [
    "title_data = [data.text.strip() for data in columns]\n",
    "column_data = pd.DataFrame(columns=title_data)\n",
    "column_data = pd.DataFrame(columns=title_data[1:8])\n",
    "print(\"Columns:\")\n",
    "display(column_data)"
   ]
  },
  {
   "cell_type": "code",
   "execution_count": 69,
   "metadata": {},
   "outputs": [
    {
     "name": "stdout",
     "output_type": "stream",
     "text": [
      "Sample Record:\n"
     ]
    },
    {
     "data": {
      "text/plain": [
       "['China', '1,416,100,000', '9.7M', '150', '-0.23%', '17.69%', '2']"
      ]
     },
     "metadata": {},
     "output_type": "display_data"
    }
   ],
   "source": [
    "rows = soup.find_all('tr')[1:]\n",
    "data = []\n",
    "\n",
    "for row in rows:\n",
    "    columns = row.find_all('td')\n",
    "    country = columns[1].text.strip()\n",
    "    pop_2025 = columns[2].text.strip()\n",
    "    area = columns[3].text.strip()\n",
    "    density = columns[4].text.strip()\n",
    "    change = columns[5].text.strip()\n",
    "    global_pop = columns[6].text.strip()\n",
    "    rank = columns[7].text.strip()\n",
    "    data.append([country, pop_2025, area, density, change, global_pop, rank])\n",
    "\n",
    "print(\"Sample Record:\")\n",
    "display(data[1])"
   ]
  },
  {
   "cell_type": "code",
   "execution_count": 70,
   "metadata": {},
   "outputs": [
    {
     "name": "stdout",
     "output_type": "stream",
     "text": [
      "Sample Record after pre-processing:\n"
     ]
    },
    {
     "data": {
      "text/plain": [
       "['China', 1416100000.0, 9700000.0, '150', -0.23, 17.69, '2']"
      ]
     },
     "metadata": {},
     "output_type": "display_data"
    }
   ],
   "source": [
    "import pandas as pd\n",
    "\n",
    "column_data = ['Country', 'Population 2025', 'Area (Km^2)', 'Density', 'Change (%)', 'Global Population (%)', 'Rank']\n",
    "\n",
    "def clean_value(value, is_precent=False):\n",
    "    value = value.replace('<', '').strip()\n",
    "    if is_precent:\n",
    "        value = value.replace('%', '').strip()\n",
    "    if 'K' in value:\n",
    "        return float(value.replace('K', '').replace(',', '')) * 1000\n",
    "    elif 'M' in value:\n",
    "        return float(value.replace('M', '').replace(',', '')) * 1000000\n",
    "    else:\n",
    "        return float(value.replace(',', ''))\n",
    "\n",
    "cleaned_data = []\n",
    "for row in data:\n",
    "    country = row[0]\n",
    "    pop_2025 = clean_value(row[1])\n",
    "    area = clean_value(row[2])\n",
    "    density = row[3]\n",
    "    change = clean_value(row[4], is_precent=True)\n",
    "    global_pop = clean_value(row[5], is_precent=True)\n",
    "    rank = row[6]\n",
    "    cleaned_data.append([country, pop_2025, area, density, change, global_pop, rank])\n",
    "\n",
    "print(\"Sample Record after pre-processing:\")\n",
    "display(cleaned_data[1])\n"
   ]
  },
  {
   "cell_type": "code",
   "execution_count": 71,
   "metadata": {},
   "outputs": [
    {
     "data": {
      "text/html": [
       "<div>\n",
       "<style scoped>\n",
       "    .dataframe tbody tr th:only-of-type {\n",
       "        vertical-align: middle;\n",
       "    }\n",
       "\n",
       "    .dataframe tbody tr th {\n",
       "        vertical-align: top;\n",
       "    }\n",
       "\n",
       "    .dataframe thead th {\n",
       "        text-align: right;\n",
       "    }\n",
       "</style>\n",
       "<table border=\"1\" class=\"dataframe\">\n",
       "  <thead>\n",
       "    <tr style=\"text-align: right;\">\n",
       "      <th></th>\n",
       "      <th>Country</th>\n",
       "      <th>Population 2025</th>\n",
       "      <th>Area (Km^2)</th>\n",
       "      <th>Density</th>\n",
       "      <th>Change (%)</th>\n",
       "      <th>Global Population (%)</th>\n",
       "      <th>Rank</th>\n",
       "    </tr>\n",
       "  </thead>\n",
       "  <tbody>\n",
       "    <tr>\n",
       "      <th>0</th>\n",
       "      <td>India</td>\n",
       "      <td>1.463870e+09</td>\n",
       "      <td>3300000.0</td>\n",
       "      <td>492</td>\n",
       "      <td>0.89</td>\n",
       "      <td>18.29</td>\n",
       "      <td>1</td>\n",
       "    </tr>\n",
       "    <tr>\n",
       "      <th>1</th>\n",
       "      <td>China</td>\n",
       "      <td>1.416100e+09</td>\n",
       "      <td>9700000.0</td>\n",
       "      <td>150</td>\n",
       "      <td>-0.23</td>\n",
       "      <td>17.69</td>\n",
       "      <td>2</td>\n",
       "    </tr>\n",
       "    <tr>\n",
       "      <th>2</th>\n",
       "      <td>United States</td>\n",
       "      <td>3.472760e+08</td>\n",
       "      <td>9400000.0</td>\n",
       "      <td>38</td>\n",
       "      <td>0.54</td>\n",
       "      <td>4.34</td>\n",
       "      <td>3</td>\n",
       "    </tr>\n",
       "    <tr>\n",
       "      <th>3</th>\n",
       "      <td>Indonesia</td>\n",
       "      <td>2.857210e+08</td>\n",
       "      <td>1900000.0</td>\n",
       "      <td>152</td>\n",
       "      <td>0.79</td>\n",
       "      <td>3.57</td>\n",
       "      <td>4</td>\n",
       "    </tr>\n",
       "    <tr>\n",
       "      <th>4</th>\n",
       "      <td>Pakistan</td>\n",
       "      <td>2.552200e+08</td>\n",
       "      <td>881900.0</td>\n",
       "      <td>331</td>\n",
       "      <td>1.57</td>\n",
       "      <td>3.19</td>\n",
       "      <td>5</td>\n",
       "    </tr>\n",
       "  </tbody>\n",
       "</table>\n",
       "</div>"
      ],
      "text/plain": [
       "         Country  Population 2025  Area (Km^2) Density  Change (%)  \\\n",
       "0          India     1.463870e+09    3300000.0     492        0.89   \n",
       "1          China     1.416100e+09    9700000.0     150       -0.23   \n",
       "2  United States     3.472760e+08    9400000.0      38        0.54   \n",
       "3      Indonesia     2.857210e+08    1900000.0     152        0.79   \n",
       "4       Pakistan     2.552200e+08     881900.0     331        1.57   \n",
       "\n",
       "   Global Population (%) Rank  \n",
       "0                  18.29    1  \n",
       "1                  17.69    2  \n",
       "2                   4.34    3  \n",
       "3                   3.57    4  \n",
       "4                   3.19    5  "
      ]
     },
     "metadata": {},
     "output_type": "display_data"
    },
    {
     "name": "stdout",
     "output_type": "stream",
     "text": [
      "Data has been saved as 'population_data.csv'!\n"
     ]
    }
   ],
   "source": [
    "df = pd.DataFrame(cleaned_data, columns=column_data)\n",
    "display(df.head())\n",
    "df.to_csv('./dataset/population_data.csv', index=False)\n",
    "print(\"Data has been saved as 'population_data.csv'!\")"
   ]
  },
  {
   "cell_type": "markdown",
   "metadata": {},
   "source": [
    "## (2) Population of Countries"
   ]
  },
  {
   "cell_type": "markdown",
   "metadata": {},
   "source": [
    "### Country ISO codes"
   ]
  },
  {
   "cell_type": "code",
   "execution_count": null,
   "metadata": {},
   "outputs": [],
   "source": [
    "import requests\n",
    "from bs4 import BeautifulSoup\n",
    "import pandas as pd\n",
    "\n",
    "# URL to scrape data from\n",
    "url = 'https://en.wikipedia.org/wiki/ISO_3166-1_alpha-3'\n",
    "\n",
    "# Send a GET request to fetch the raw HTML content\n",
    "response = requests.get(url)\n",
    "soup = BeautifulSoup(response.text, 'html.parser')\n",
    "\n",
    "# Find the table containing country data and ISO codes\n",
    "table = soup.find('table', {'class': 'wikitable'})\n",
    "\n",
    "# Extract rows from the table (excluding the header)\n",
    "rows = table.find_all('tr')[1:]\n",
    "\n",
    "# Prepare lists to store country names and ISO codes\n",
    "countries = []\n",
    "iso_codes = []\n",
    "\n",
    "# Loop through rows to extract data\n",
    "for row in rows:\n",
    "    columns = row.find_all('td')\n",
    "    if len(columns) >= 2:\n",
    "        country = columns[0].get_text(strip=True)\n",
    "        iso_code = columns[1].get_text(strip=True)\n",
    "        countries.append(country)\n",
    "        iso_codes.append(iso_code)\n",
    "\n",
    "# Create a DataFrame to store the data\n",
    "df = pd.DataFrame({\n",
    "    'Country': countries,\n",
    "    'ISO Alpha-3 Code': iso_codes\n",
    "})\n",
    "\n",
    "# Save the data to a CSV file\n",
    "df.to_csv('countries_iso_codes.csv', index=False)\n",
    "\n",
    "# Show the first few rows of the DataFrame\n",
    "print(df.head())\n"
   ]
  }
 ],
 "metadata": {
  "kernelspec": {
   "display_name": "venv",
   "language": "python",
   "name": "python3"
  },
  "language_info": {
   "codemirror_mode": {
    "name": "ipython",
    "version": 3
   },
   "file_extension": ".py",
   "mimetype": "text/x-python",
   "name": "python",
   "nbconvert_exporter": "python",
   "pygments_lexer": "ipython3",
   "version": "3.13.2"
  }
 },
 "nbformat": 4,
 "nbformat_minor": 2
}
