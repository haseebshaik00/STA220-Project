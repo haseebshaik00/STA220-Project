{
 "cells": [
  {
   "cell_type": "code",
   "execution_count": 1,
   "metadata": {},
   "outputs": [],
   "source": [
    "import pandas as pd\n",
    "import requests"
   ]
  },
  {
   "cell_type": "code",
   "execution_count": 2,
   "metadata": {},
   "outputs": [],
   "source": [
    "import requests\n",
    "from bs4 import BeautifulSoup\n",
    "import pandas as pd\n",
    "\n",
    "url = \"https://data.un.org/\" \n",
    "\n",
    "response = requests.get(url)\n",
    "response.raise_for_status() \n",
    "\n",
    "soup = BeautifulSoup(response.text, \"html.parser\")\n",
    "\n",
    "country_list_div = soup.find(\"div\", class_=\"CountryList\")\n",
    "if not country_list_div:\n",
    "    print(\"Could not find the 'CountryList' div. Check class names or structure.\")\n",
    "    exit()\n",
    "\n",
    "li_tags = country_list_div.find_all(\"li\")\n",
    "\n",
    "country_data = []\n",
    "\n",
    "for li in li_tags:\n",
    "    a_tag = li.find(\"a\")\n",
    "    if a_tag:\n",
    "        country_name = a_tag.get_text(strip=True)\n",
    "        country_url = a_tag.get(\"href\")\n",
    "\n",
    "        country_data.append({\"country_name\": country_name, \"country_url\": country_url})\n",
    "\n",
    "df_countries = pd.DataFrame(country_data)"
   ]
  },
  {
   "cell_type": "code",
   "execution_count": 4,
   "metadata": {},
   "outputs": [],
   "source": [
    "def parse_country_page(url, country_name):\n",
    "    \"\"\"\n",
    "    Scrapes the UN Data country detail page and returns four DataFrames:\n",
    "    (df_general, df_economic, df_social, df_environment).\n",
    "    \"\"\"\n",
    "\n",
    "    # print(url)\n",
    "    response = requests.get(url)\n",
    "    response.raise_for_status()\n",
    "    soup = BeautifulSoup(response.text, \"html.parser\")\n",
    "\n",
    "    general_data = []\n",
    "    economic_data = []\n",
    "    social_data = []\n",
    "    environment_data = []\n",
    "\n",
    "    details_sections = soup.find_all(\"details\")\n",
    "\n",
    "    for section in details_sections:\n",
    "        # The <summary> text gives us the category\n",
    "        summary_tag = section.find(\"summary\")\n",
    "        if not summary_tag:\n",
    "            continue\n",
    "        summary_text = summary_tag.get_text(strip=True)\n",
    "\n",
    "        if \"General\" in summary_text:\n",
    "            current_list = general_data\n",
    "        elif \"Economic\" in summary_text:\n",
    "            current_list = economic_data\n",
    "        elif \"Social\" in summary_text:\n",
    "            current_list = social_data\n",
    "        elif \"Environment\" in summary_text:\n",
    "            current_list = environment_data\n",
    "        else:\n",
    "            # If it's some unexpected category, skip or handle differently\n",
    "            continue\n",
    "\n",
    "        table = section.find(\"table\", class_=\"pure-table\")\n",
    "        if not table:\n",
    "            continue\n",
    "\n",
    "        thead = table.find(\"thead\")\n",
    "\n",
    "        if thead:\n",
    "            header_cells = thead.find(\"tr\").find_all(\"td\")\n",
    "            year_headers = [cell.get_text(strip=True) for cell in header_cells[1:]]\n",
    "\n",
    "            tbody = table.find(\"tbody\")\n",
    "            rows = tbody.find_all(\"tr\", class_=\"pure-table\") + tbody.find_all(\n",
    "                \"tr\", class_=\"pure-table-odd\"\n",
    "            )\n",
    "\n",
    "            for row in rows:\n",
    "                cells = row.find_all(\"td\")\n",
    "                if len(cells) == 0:\n",
    "                    continue\n",
    "\n",
    "                indicator_name = cells[0].get_text(strip=True)\n",
    "                value_cells = cells[1:]\n",
    "\n",
    "                for year_header, value_cell in zip(year_headers, value_cells):\n",
    "                    # Extract text and footnote\n",
    "                    value_text = value_cell.get_text(strip=True)\n",
    "                    sup_tag = value_cell.find(\"sup\")\n",
    "\n",
    "                    current_list.append(\n",
    "                        {\n",
    "                            \"Country\": country_name,\n",
    "                            \"Indicator\": indicator_name,\n",
    "                            \"Year\": year_header,\n",
    "                            \"Value\": value_text,\n",
    "                        }\n",
    "                    )\n",
    "\n",
    "        else:\n",
    "            # Single-column table (General Information)\n",
    "            tbody = table.find(\"tbody\")\n",
    "            rows = tbody.find_all(\"tr\", class_=\"pure-table\") + tbody.find_all(\n",
    "                \"tr\", class_=\"pure-table-odd\"\n",
    "            )\n",
    "\n",
    "            for row in rows:\n",
    "                cells = row.find_all(\"td\")\n",
    "                if len(cells) < 3:\n",
    "                    continue\n",
    "\n",
    "                indicator_name = cells[0].get_text(strip=True)\n",
    "                value_cell = cells[2]\n",
    "                value_text = value_cell.get_text(strip=True)\n",
    "                sup_tag = value_cell.find(\"sup\")\n",
    "\n",
    "                current_list.append(\n",
    "                    {\n",
    "                        \"Country\": country_name,\n",
    "                        \"Indicator\": indicator_name,\n",
    "                        \"Year\": \"\",  # No year columns in General Info\n",
    "                        \"Value\": value_text,\n",
    "                    }\n",
    "                )\n",
    "\n",
    "    df_general = pd.DataFrame(general_data)\n",
    "    df_economic = pd.DataFrame(economic_data)\n",
    "    df_social = pd.DataFrame(social_data)\n",
    "    df_environment = pd.DataFrame(environment_data)\n",
    "\n",
    "    return df_general, df_economic, df_social, df_environment"
   ]
  },
  {
   "cell_type": "code",
   "execution_count": 5,
   "metadata": {},
   "outputs": [
    {
     "name": "stderr",
     "output_type": "stream",
     "text": [
      "/Users/shaoormunir/studies/sta-220/project-data-collection/venv/lib/python3.12/site-packages/tqdm/auto.py:21: TqdmWarning: IProgress not found. Please update jupyter and ipywidgets. See https://ipywidgets.readthedocs.io/en/stable/user_install.html\n",
      "  from .autonotebook import tqdm as notebook_tqdm\n",
      "100%|██████████| 232/232 [03:07<00:00,  1.24it/s]\n"
     ]
    }
   ],
   "source": [
    "base_url = \"https://data.un.org\"\n",
    "\n",
    "from tqdm.auto import tqdm\n",
    "\n",
    "df_general_list = []\n",
    "df_economic_list = []\n",
    "df_social_list = []\n",
    "df_environment_list = []\n",
    "\n",
    "for idx, row in tqdm(df_countries.iterrows(), total=df_countries.shape[0]):\n",
    "    country_name = row[\"country_name\"]\n",
    "    country_url = row[\"country_url\"]\n",
    "\n",
    "    full_url = base_url + \"/\" + country_url\n",
    "\n",
    "    # print(full_url)\n",
    "\n",
    "    df_general, df_economic, df_social, df_environment = parse_country_page(\n",
    "        full_url, country_name\n",
    "    )\n",
    "\n",
    "    df_general_list.append(df_general)\n",
    "    df_economic_list.append(df_economic)\n",
    "    df_social_list.append(df_social)\n",
    "    df_environment_list.append(df_environment)\n"
   ]
  },
  {
   "cell_type": "code",
   "execution_count": 6,
   "metadata": {},
   "outputs": [],
   "source": [
    "df_general_list = pd.concat(df_general_list, ignore_index=True)\n",
    "df_economic_list = pd.concat(df_economic_list, ignore_index=True) \n",
    "df_social_list = pd.concat(df_social_list, ignore_index=True)\n",
    "df_environment_list = pd.concat(df_environment_list, ignore_index=True)"
   ]
  },
  {
   "cell_type": "code",
   "execution_count": 7,
   "metadata": {},
   "outputs": [
    {
     "data": {
      "application/vnd.microsoft.datawrangler.viewer.v0+json": {
       "columns": [
        {
         "name": "index",
         "rawType": "int64",
         "type": "integer"
        },
        {
         "name": "Country",
         "rawType": "object",
         "type": "string"
        },
        {
         "name": "Indicator",
         "rawType": "object",
         "type": "string"
        },
        {
         "name": "Year",
         "rawType": "object",
         "type": "string"
        },
        {
         "name": "Value",
         "rawType": "object",
         "type": "string"
        }
       ],
       "conversionMethod": "pd.DataFrame",
       "ref": "ad76d391-d0b6-4846-b8ad-142608ef422f",
       "rows": [
        [
         "0",
         "Afghanistan",
         "Region",
         "",
         "Southern Asia"
        ],
        [
         "1",
         "Afghanistan",
         "Population (000, 2021)",
         "",
         "39 835a"
        ],
        [
         "2",
         "Afghanistan",
         "Pop. density (per km2, 2021)",
         "",
         "61a"
        ],
        [
         "3",
         "Afghanistan",
         "Capital city",
         "",
         "Kabul"
        ],
        [
         "4",
         "Afghanistan",
         "Capital city pop. (000, 2021)",
         "",
         "4 114.0b"
        ],
        [
         "5",
         "Afghanistan",
         "UN membership date",
         "",
         "19-Nov-46"
        ],
        [
         "6",
         "Afghanistan",
         "Surface area (km2)",
         "",
         "652 864b"
        ],
        [
         "7",
         "Afghanistan",
         "Sex ratio (m per 100 f)",
         "",
         "105.3a"
        ],
        [
         "8",
         "Afghanistan",
         "National currency",
         "",
         "Afghani (AFN)"
        ],
        [
         "9",
         "Afghanistan",
         "Exchange rate (per US$)",
         "",
         "77.1c"
        ],
        [
         "10",
         "Albania",
         "Region",
         "",
         "Southern Europe"
        ],
        [
         "11",
         "Albania",
         "Population (000, 2021)",
         "",
         "2 873a"
        ],
        [
         "12",
         "Albania",
         "Pop. density (per km2, 2021)",
         "",
         "104.9a"
        ],
        [
         "13",
         "Albania",
         "Capital city",
         "",
         "Tirana"
        ],
        [
         "14",
         "Albania",
         "Capital city pop. (000, 2021)",
         "",
         "484.6b"
        ],
        [
         "15",
         "Albania",
         "UN membership date",
         "",
         "14-Dec-55"
        ],
        [
         "16",
         "Albania",
         "Surface area (km2)",
         "",
         "28 748b"
        ],
        [
         "17",
         "Albania",
         "Sex ratio (m per 100 f)",
         "",
         "103.6a"
        ],
        [
         "18",
         "Albania",
         "National currency",
         "",
         "Lek (ALL)"
        ],
        [
         "19",
         "Albania",
         "Exchange rate (per US$)",
         "",
         "100.8c"
        ],
        [
         "20",
         "Algeria",
         "Region",
         "",
         "Northern Africa"
        ],
        [
         "21",
         "Algeria",
         "Population (000, 2021)",
         "",
         "44 617a"
        ],
        [
         "22",
         "Algeria",
         "Pop. density (per km2, 2021)",
         "",
         "18.7a"
        ],
        [
         "23",
         "Algeria",
         "Capital city",
         "",
         "Algiers"
        ],
        [
         "24",
         "Algeria",
         "Capital city pop. (000, 2021)",
         "",
         "2 729.3c,b"
        ],
        [
         "25",
         "Algeria",
         "UN membership date",
         "",
         "08-Oct-62"
        ],
        [
         "26",
         "Algeria",
         "Surface area (km2)",
         "",
         "2 381 741b"
        ],
        [
         "27",
         "Algeria",
         "Sex ratio (m per 100 f)",
         "",
         "102.1a"
        ],
        [
         "28",
         "Algeria",
         "National currency",
         "",
         "Algerian Dinar (DZD)"
        ],
        [
         "29",
         "Algeria",
         "Exchange rate (per US$)",
         "",
         "132.1d"
        ],
        [
         "30",
         "American Samoa",
         "Region",
         "",
         "Polynesia"
        ],
        [
         "31",
         "American Samoa",
         "Population (000, 2021)",
         "",
         "55a"
        ],
        [
         "32",
         "American Samoa",
         "Pop. density (per km2, 2021)",
         "",
         "275.5a"
        ],
        [
         "33",
         "American Samoa",
         "Capital city",
         "",
         "Pago Pago"
        ],
        [
         "34",
         "American Samoa",
         "Capital city pop. (000, 2021)",
         "",
         "48.5c"
        ],
        [
         "35",
         "American Samoa",
         "Surface area (km2)",
         "",
         "199b"
        ],
        [
         "36",
         "American Samoa",
         "National currency",
         "",
         "US Dollar (USD)"
        ],
        [
         "37",
         "Andorra",
         "Region",
         "",
         "Southern Europe"
        ],
        [
         "38",
         "Andorra",
         "Population (000, 2021)",
         "",
         "77a"
        ],
        [
         "39",
         "Andorra",
         "Pop. density (per km2, 2021)",
         "",
         "164.6a"
        ],
        [
         "40",
         "Andorra",
         "Capital city",
         "",
         "Andorra la Vella"
        ],
        [
         "41",
         "Andorra",
         "Capital city pop. (000, 2021)",
         "",
         "22.6c"
        ],
        [
         "42",
         "Andorra",
         "UN membership date",
         "",
         "28-Jul-93"
        ],
        [
         "43",
         "Andorra",
         "Surface area (km2)",
         "",
         "468b"
        ],
        [
         "44",
         "Andorra",
         "National currency",
         "",
         "Euro (EUR)"
        ],
        [
         "45",
         "Andorra",
         "Exchange rate (per US$)",
         "",
         "0.8d"
        ],
        [
         "46",
         "Angola",
         "Region",
         "",
         "Middle Africa"
        ],
        [
         "47",
         "Angola",
         "Population (000, 2021)",
         "",
         "33 934a"
        ],
        [
         "48",
         "Angola",
         "Pop. density (per km2, 2021)",
         "",
         "27.2a"
        ],
        [
         "49",
         "Angola",
         "Capital city",
         "",
         "Luanda"
        ]
       ],
       "shape": {
        "columns": 4,
        "rows": 2226
       }
      },
      "text/html": [
       "<div>\n",
       "<style scoped>\n",
       "    .dataframe tbody tr th:only-of-type {\n",
       "        vertical-align: middle;\n",
       "    }\n",
       "\n",
       "    .dataframe tbody tr th {\n",
       "        vertical-align: top;\n",
       "    }\n",
       "\n",
       "    .dataframe thead th {\n",
       "        text-align: right;\n",
       "    }\n",
       "</style>\n",
       "<table border=\"1\" class=\"dataframe\">\n",
       "  <thead>\n",
       "    <tr style=\"text-align: right;\">\n",
       "      <th></th>\n",
       "      <th>Country</th>\n",
       "      <th>Indicator</th>\n",
       "      <th>Year</th>\n",
       "      <th>Value</th>\n",
       "    </tr>\n",
       "  </thead>\n",
       "  <tbody>\n",
       "    <tr>\n",
       "      <th>0</th>\n",
       "      <td>Afghanistan</td>\n",
       "      <td>Region</td>\n",
       "      <td></td>\n",
       "      <td>Southern Asia</td>\n",
       "    </tr>\n",
       "    <tr>\n",
       "      <th>1</th>\n",
       "      <td>Afghanistan</td>\n",
       "      <td>Population (000, 2021)</td>\n",
       "      <td></td>\n",
       "      <td>39 835a</td>\n",
       "    </tr>\n",
       "    <tr>\n",
       "      <th>2</th>\n",
       "      <td>Afghanistan</td>\n",
       "      <td>Pop. density (per km2, 2021)</td>\n",
       "      <td></td>\n",
       "      <td>61a</td>\n",
       "    </tr>\n",
       "    <tr>\n",
       "      <th>3</th>\n",
       "      <td>Afghanistan</td>\n",
       "      <td>Capital city</td>\n",
       "      <td></td>\n",
       "      <td>Kabul</td>\n",
       "    </tr>\n",
       "    <tr>\n",
       "      <th>4</th>\n",
       "      <td>Afghanistan</td>\n",
       "      <td>Capital city pop. (000, 2021)</td>\n",
       "      <td></td>\n",
       "      <td>4 114.0b</td>\n",
       "    </tr>\n",
       "    <tr>\n",
       "      <th>...</th>\n",
       "      <td>...</td>\n",
       "      <td>...</td>\n",
       "      <td>...</td>\n",
       "      <td>...</td>\n",
       "    </tr>\n",
       "    <tr>\n",
       "      <th>2221</th>\n",
       "      <td>Zimbabwe</td>\n",
       "      <td>UN membership date</td>\n",
       "      <td></td>\n",
       "      <td>25-Aug-80</td>\n",
       "    </tr>\n",
       "    <tr>\n",
       "      <th>2222</th>\n",
       "      <td>Zimbabwe</td>\n",
       "      <td>Surface area (km2)</td>\n",
       "      <td></td>\n",
       "      <td>390 757b</td>\n",
       "    </tr>\n",
       "    <tr>\n",
       "      <th>2223</th>\n",
       "      <td>Zimbabwe</td>\n",
       "      <td>Sex ratio (m per 100 f)</td>\n",
       "      <td></td>\n",
       "      <td>91.4a</td>\n",
       "    </tr>\n",
       "    <tr>\n",
       "      <th>2224</th>\n",
       "      <td>Zimbabwe</td>\n",
       "      <td>National currency</td>\n",
       "      <td></td>\n",
       "      <td>Zimbabwe Dollar (ZWL)</td>\n",
       "    </tr>\n",
       "    <tr>\n",
       "      <th>2225</th>\n",
       "      <td>Zimbabwe</td>\n",
       "      <td>Exchange rate (per US$)</td>\n",
       "      <td></td>\n",
       "      <td>81.8c</td>\n",
       "    </tr>\n",
       "  </tbody>\n",
       "</table>\n",
       "<p>2226 rows × 4 columns</p>\n",
       "</div>"
      ],
      "text/plain": [
       "          Country                      Indicator Year                  Value\n",
       "0     Afghanistan                         Region               Southern Asia\n",
       "1     Afghanistan         Population (000, 2021)                     39 835a\n",
       "2     Afghanistan   Pop. density (per km2, 2021)                         61a\n",
       "3     Afghanistan                   Capital city                       Kabul\n",
       "4     Afghanistan  Capital city pop. (000, 2021)                    4 114.0b\n",
       "...           ...                            ...  ...                    ...\n",
       "2221     Zimbabwe             UN membership date                   25-Aug-80\n",
       "2222     Zimbabwe             Surface area (km2)                    390 757b\n",
       "2223     Zimbabwe        Sex ratio (m per 100 f)                       91.4a\n",
       "2224     Zimbabwe              National currency       Zimbabwe Dollar (ZWL)\n",
       "2225     Zimbabwe        Exchange rate (per US$)                       81.8c\n",
       "\n",
       "[2226 rows x 4 columns]"
      ]
     },
     "execution_count": 7,
     "metadata": {},
     "output_type": "execute_result"
    }
   ],
   "source": [
    "df_general_list"
   ]
  },
  {
   "cell_type": "code",
   "execution_count": 8,
   "metadata": {},
   "outputs": [
    {
     "data": {
      "application/vnd.microsoft.datawrangler.viewer.v0+json": {
       "columns": [
        {
         "name": "index",
         "rawType": "int64",
         "type": "integer"
        },
        {
         "name": "Country",
         "rawType": "object",
         "type": "string"
        },
        {
         "name": "Indicator",
         "rawType": "object",
         "type": "string"
        },
        {
         "name": "Year",
         "rawType": "object",
         "type": "string"
        },
        {
         "name": "Value",
         "rawType": "object",
         "type": "string"
        }
       ],
       "conversionMethod": "pd.DataFrame",
       "ref": "4275dff4-66a1-486d-8a89-287ab8e0731a",
       "rows": [
        [
         "0",
         "Afghanistan",
         "GDP growth rate(annual %, const. 2015 prices)",
         "2010",
         "5.2"
        ],
        [
         "1",
         "Afghanistan",
         "GDP growth rate(annual %, const. 2015 prices)",
         "2015",
         "-1.4"
        ],
        [
         "2",
         "Afghanistan",
         "GDP growth rate(annual %, const. 2015 prices)",
         "2021",
         "4b"
        ],
        [
         "3",
         "Afghanistan",
         "Economy: Agriculture(% of Gross Value Added)",
         "2010",
         "33.2"
        ],
        [
         "4",
         "Afghanistan",
         "Economy: Agriculture(% of Gross Value Added)",
         "2015",
         "27.3"
        ],
        [
         "5",
         "Afghanistan",
         "Economy: Agriculture(% of Gross Value Added)",
         "2021",
         "26.9d,b"
        ],
        [
         "6",
         "Afghanistan",
         "Economy: Services and other activity(% of GVA)",
         "2010",
         "53.8"
        ],
        [
         "7",
         "Afghanistan",
         "Economy: Services and other activity(% of GVA)",
         "2015",
         "61.9"
        ],
        [
         "8",
         "Afghanistan",
         "Economy: Services and other activity(% of GVA)",
         "2021",
         "60.4g,b"
        ],
        [
         "9",
         "Afghanistan",
         "Employment in industryh(% of employed)",
         "2010",
         "14.4"
        ],
        [
         "10",
         "Afghanistan",
         "Employment in industryh(% of employed)",
         "2015",
         "17"
        ],
        [
         "11",
         "Afghanistan",
         "Employment in industryh(% of employed)",
         "2021",
         "18.3c"
        ],
        [
         "12",
         "Afghanistan",
         "Unemploymenth(% of labour force)",
         "2010",
         "11.5"
        ],
        [
         "13",
         "Afghanistan",
         "Unemploymenth(% of labour force)",
         "2015",
         "11.4"
        ],
        [
         "14",
         "Afghanistan",
         "Unemploymenth(% of labour force)",
         "2021",
         "11.2c"
        ],
        [
         "15",
         "Afghanistan",
         "CPI: Consumer Price Index(2010=100)",
         "2010",
         "100"
        ],
        [
         "16",
         "Afghanistan",
         "CPI: Consumer Price Index(2010=100)",
         "2015",
         "133"
        ],
        [
         "17",
         "Afghanistan",
         "CPI: Consumer Price Index(2010=100)",
         "2021",
         "150b"
        ],
        [
         "18",
         "Afghanistan",
         "International trade: exports(million current US$)",
         "2010",
         "388"
        ],
        [
         "19",
         "Afghanistan",
         "International trade: exports(million current US$)",
         "2015",
         "571"
        ],
        [
         "20",
         "Afghanistan",
         "International trade: exports(million current US$)",
         "2021",
         "1 022h,c"
        ],
        [
         "21",
         "Afghanistan",
         "International trade: balance(million current US$)",
         "2010",
         "- 4 766"
        ],
        [
         "22",
         "Afghanistan",
         "International trade: balance(million current US$)",
         "2015",
         "- 7 151"
        ],
        [
         "23",
         "Afghanistan",
         "International trade: balance(million current US$)",
         "2021",
         "- 8 661h,c"
        ],
        [
         "24",
         "Afghanistan",
         "GDP: Gross domestic product(million current US$)",
         "2010",
         "14 699"
        ],
        [
         "25",
         "Afghanistan",
         "GDP: Gross domestic product(million current US$)",
         "2015",
         "18 713"
        ],
        [
         "26",
         "Afghanistan",
         "GDP: Gross domestic product(million current US$)",
         "2021",
         "17 877b"
        ],
        [
         "27",
         "Afghanistan",
         "GDP per capita(current US$)",
         "2010",
         "503.6"
        ],
        [
         "28",
         "Afghanistan",
         "GDP per capita(current US$)",
         "2015",
         "543.8"
        ],
        [
         "29",
         "Afghanistan",
         "GDP per capita(current US$)",
         "2021",
         "469.9b"
        ],
        [
         "30",
         "Afghanistan",
         "Economy: Industry(% of Gross Value Added)",
         "2010",
         "13"
        ],
        [
         "31",
         "Afghanistan",
         "Economy: Industry(% of Gross Value Added)",
         "2015",
         "10.8"
        ],
        [
         "32",
         "Afghanistan",
         "Economy: Industry(% of Gross Value Added)",
         "2021",
         "12.8e,f,b"
        ],
        [
         "33",
         "Afghanistan",
         "Employment in agricultureh(% of employed)",
         "2010",
         "54.7"
        ],
        [
         "34",
         "Afghanistan",
         "Employment in agricultureh(% of employed)",
         "2015",
         "47.1"
        ],
        [
         "35",
         "Afghanistan",
         "Employment in agricultureh(% of employed)",
         "2021",
         "42.4c"
        ],
        [
         "36",
         "Afghanistan",
         "Employment in servicesh(% employed)",
         "2010",
         "30.9"
        ],
        [
         "37",
         "Afghanistan",
         "Employment in servicesh(% employed)",
         "2015",
         "35.8"
        ],
        [
         "38",
         "Afghanistan",
         "Employment in servicesh(% employed)",
         "2021",
         "39.4c"
        ],
        [
         "39",
         "Afghanistan",
         "Labour force participation rateh(female/male pop. %)",
         "2010",
         "14.9 /       78.4"
        ],
        [
         "40",
         "Afghanistan",
         "Labour force participation rateh(female/male pop. %)",
         "2015",
         "18.8 /       76.2"
        ],
        [
         "41",
         "Afghanistan",
         "Labour force participation rateh(female/male pop. %)",
         "2021",
         "21.8 /       74.6c"
        ],
        [
         "42",
         "Afghanistan",
         "Agricultural production index(2014-2016=100)",
         "2010",
         "93"
        ],
        [
         "43",
         "Afghanistan",
         "Agricultural production index(2014-2016=100)",
         "2015",
         "96"
        ],
        [
         "44",
         "Afghanistan",
         "Agricultural production index(2014-2016=100)",
         "2021",
         "111b"
        ],
        [
         "45",
         "Afghanistan",
         "International trade: imports(million current US$)",
         "2010",
         "5 154"
        ],
        [
         "46",
         "Afghanistan",
         "International trade: imports(million current US$)",
         "2015",
         "7 723"
        ],
        [
         "47",
         "Afghanistan",
         "International trade: imports(million current US$)",
         "2021",
         "9 683h,c"
        ],
        [
         "48",
         "Afghanistan",
         "Balance of payments, current account(million US$)",
         "2010",
         "-578"
        ],
        [
         "49",
         "Afghanistan",
         "Balance of payments, current account(million US$)",
         "2015",
         "- 4 193"
        ]
       ],
       "shape": {
        "columns": 4,
        "rows": 10614
       }
      },
      "text/html": [
       "<div>\n",
       "<style scoped>\n",
       "    .dataframe tbody tr th:only-of-type {\n",
       "        vertical-align: middle;\n",
       "    }\n",
       "\n",
       "    .dataframe tbody tr th {\n",
       "        vertical-align: top;\n",
       "    }\n",
       "\n",
       "    .dataframe thead th {\n",
       "        text-align: right;\n",
       "    }\n",
       "</style>\n",
       "<table border=\"1\" class=\"dataframe\">\n",
       "  <thead>\n",
       "    <tr style=\"text-align: right;\">\n",
       "      <th></th>\n",
       "      <th>Country</th>\n",
       "      <th>Indicator</th>\n",
       "      <th>Year</th>\n",
       "      <th>Value</th>\n",
       "    </tr>\n",
       "  </thead>\n",
       "  <tbody>\n",
       "    <tr>\n",
       "      <th>0</th>\n",
       "      <td>Afghanistan</td>\n",
       "      <td>GDP growth rate(annual %, const. 2015 prices)</td>\n",
       "      <td>2010</td>\n",
       "      <td>5.2</td>\n",
       "    </tr>\n",
       "    <tr>\n",
       "      <th>1</th>\n",
       "      <td>Afghanistan</td>\n",
       "      <td>GDP growth rate(annual %, const. 2015 prices)</td>\n",
       "      <td>2015</td>\n",
       "      <td>-1.4</td>\n",
       "    </tr>\n",
       "    <tr>\n",
       "      <th>2</th>\n",
       "      <td>Afghanistan</td>\n",
       "      <td>GDP growth rate(annual %, const. 2015 prices)</td>\n",
       "      <td>2021</td>\n",
       "      <td>4b</td>\n",
       "    </tr>\n",
       "    <tr>\n",
       "      <th>3</th>\n",
       "      <td>Afghanistan</td>\n",
       "      <td>Economy: Agriculture(% of Gross Value Added)</td>\n",
       "      <td>2010</td>\n",
       "      <td>33.2</td>\n",
       "    </tr>\n",
       "    <tr>\n",
       "      <th>4</th>\n",
       "      <td>Afghanistan</td>\n",
       "      <td>Economy: Agriculture(% of Gross Value Added)</td>\n",
       "      <td>2015</td>\n",
       "      <td>27.3</td>\n",
       "    </tr>\n",
       "    <tr>\n",
       "      <th>...</th>\n",
       "      <td>...</td>\n",
       "      <td>...</td>\n",
       "      <td>...</td>\n",
       "      <td>...</td>\n",
       "    </tr>\n",
       "    <tr>\n",
       "      <th>10609</th>\n",
       "      <td>Zimbabwe</td>\n",
       "      <td>International trade: imports(million current US$)</td>\n",
       "      <td>2015</td>\n",
       "      <td>6 053</td>\n",
       "    </tr>\n",
       "    <tr>\n",
       "      <th>10610</th>\n",
       "      <td>Zimbabwe</td>\n",
       "      <td>International trade: imports(million current US$)</td>\n",
       "      <td>2021</td>\n",
       "      <td>5 048c</td>\n",
       "    </tr>\n",
       "    <tr>\n",
       "      <th>10611</th>\n",
       "      <td>Zimbabwe</td>\n",
       "      <td>Balance of payments, current account(million US$)</td>\n",
       "      <td>2010</td>\n",
       "      <td>- 1 444</td>\n",
       "    </tr>\n",
       "    <tr>\n",
       "      <th>10612</th>\n",
       "      <td>Zimbabwe</td>\n",
       "      <td>Balance of payments, current account(million US$)</td>\n",
       "      <td>2015</td>\n",
       "      <td>- 1 678</td>\n",
       "    </tr>\n",
       "    <tr>\n",
       "      <th>10613</th>\n",
       "      <td>Zimbabwe</td>\n",
       "      <td>Balance of payments, current account(million US$)</td>\n",
       "      <td>2021</td>\n",
       "      <td>-308f</td>\n",
       "    </tr>\n",
       "  </tbody>\n",
       "</table>\n",
       "<p>10614 rows × 4 columns</p>\n",
       "</div>"
      ],
      "text/plain": [
       "           Country                                          Indicator  Year  \\\n",
       "0      Afghanistan      GDP growth rate(annual %, const. 2015 prices)  2010   \n",
       "1      Afghanistan      GDP growth rate(annual %, const. 2015 prices)  2015   \n",
       "2      Afghanistan      GDP growth rate(annual %, const. 2015 prices)  2021   \n",
       "3      Afghanistan       Economy: Agriculture(% of Gross Value Added)  2010   \n",
       "4      Afghanistan       Economy: Agriculture(% of Gross Value Added)  2015   \n",
       "...            ...                                                ...   ...   \n",
       "10609     Zimbabwe  International trade: imports(million current US$)  2015   \n",
       "10610     Zimbabwe  International trade: imports(million current US$)  2021   \n",
       "10611     Zimbabwe  Balance of payments, current account(million US$)  2010   \n",
       "10612     Zimbabwe  Balance of payments, current account(million US$)  2015   \n",
       "10613     Zimbabwe  Balance of payments, current account(million US$)  2021   \n",
       "\n",
       "         Value  \n",
       "0          5.2  \n",
       "1         -1.4  \n",
       "2           4b  \n",
       "3         33.2  \n",
       "4         27.3  \n",
       "...        ...  \n",
       "10609    6 053  \n",
       "10610   5 048c  \n",
       "10611  - 1 444  \n",
       "10612  - 1 678  \n",
       "10613    -308f  \n",
       "\n",
       "[10614 rows x 4 columns]"
      ]
     },
     "execution_count": 8,
     "metadata": {},
     "output_type": "execute_result"
    }
   ],
   "source": [
    "df_economic_list"
   ]
  },
  {
   "cell_type": "code",
   "execution_count": 9,
   "metadata": {},
   "outputs": [],
   "source": [
    "df_general_list.to_csv(\"general_data.csv\", index=False)\n",
    "df_economic_list.to_csv(\"economic_data.csv\", index=False)\n",
    "df_social_list.to_csv(\"social_data.csv\", index=False)\n",
    "df_environment_list.to_csv(\"environment_data.csv\", index=False)"
   ]
  }
 ],
 "metadata": {
  "kernelspec": {
   "display_name": "venv",
   "language": "python",
   "name": "python3"
  },
  "language_info": {
   "codemirror_mode": {
    "name": "ipython",
    "version": 3
   },
   "file_extension": ".py",
   "mimetype": "text/x-python",
   "name": "python",
   "nbconvert_exporter": "python",
   "pygments_lexer": "ipython3",
   "version": "3.12.3"
  }
 },
 "nbformat": 4,
 "nbformat_minor": 2
}
