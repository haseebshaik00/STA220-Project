{
 "cells": [
  {
   "cell_type": "code",
   "execution_count": 12,
   "metadata": {},
   "outputs": [
    {
     "name": "stdout",
     "output_type": "stream",
     "text": [
      "Requirement already satisfied: pandas in /Users/haseebrahman/Desktop/Projects/.venv/lib/python3.13/site-packages (2.2.3)\n",
      "Requirement already satisfied: selenium in /Users/haseebrahman/Desktop/Projects/.venv/lib/python3.13/site-packages (4.29.0)\n",
      "Requirement already satisfied: bs4 in /Users/haseebrahman/Desktop/Projects/.venv/lib/python3.13/site-packages (0.0.2)\n",
      "Collecting webdriver_manager\n",
      "  Using cached webdriver_manager-4.0.2-py2.py3-none-any.whl.metadata (12 kB)\n",
      "Requirement already satisfied: numpy>=1.26.0 in /Users/haseebrahman/Desktop/Projects/.venv/lib/python3.13/site-packages (from pandas) (2.2.3)\n",
      "Requirement already satisfied: python-dateutil>=2.8.2 in /Users/haseebrahman/Desktop/Projects/.venv/lib/python3.13/site-packages (from pandas) (2.9.0.post0)\n",
      "Requirement already satisfied: pytz>=2020.1 in /Users/haseebrahman/Desktop/Projects/.venv/lib/python3.13/site-packages (from pandas) (2025.1)\n",
      "Requirement already satisfied: tzdata>=2022.7 in /Users/haseebrahman/Desktop/Projects/.venv/lib/python3.13/site-packages (from pandas) (2025.1)\n",
      "Requirement already satisfied: urllib3<3,>=1.26 in /Users/haseebrahman/Desktop/Projects/.venv/lib/python3.13/site-packages (from urllib3[socks]<3,>=1.26->selenium) (2.3.0)\n",
      "Requirement already satisfied: trio~=0.17 in /Users/haseebrahman/Desktop/Projects/.venv/lib/python3.13/site-packages (from selenium) (0.29.0)\n",
      "Requirement already satisfied: trio-websocket~=0.9 in /Users/haseebrahman/Desktop/Projects/.venv/lib/python3.13/site-packages (from selenium) (0.12.2)\n",
      "Requirement already satisfied: certifi>=2021.10.8 in /Users/haseebrahman/Desktop/Projects/.venv/lib/python3.13/site-packages (from selenium) (2025.1.31)\n",
      "Requirement already satisfied: typing_extensions~=4.9 in /Users/haseebrahman/Desktop/Projects/.venv/lib/python3.13/site-packages (from selenium) (4.12.2)\n",
      "Requirement already satisfied: websocket-client~=1.8 in /Users/haseebrahman/Desktop/Projects/.venv/lib/python3.13/site-packages (from selenium) (1.8.0)\n",
      "Requirement already satisfied: beautifulsoup4 in /Users/haseebrahman/Desktop/Projects/.venv/lib/python3.13/site-packages (from bs4) (4.13.3)\n",
      "Collecting requests (from webdriver_manager)\n",
      "  Using cached requests-2.32.3-py3-none-any.whl.metadata (4.6 kB)\n",
      "Collecting python-dotenv (from webdriver_manager)\n",
      "  Using cached python_dotenv-1.0.1-py3-none-any.whl.metadata (23 kB)\n",
      "Requirement already satisfied: packaging in /Users/haseebrahman/Desktop/Projects/.venv/lib/python3.13/site-packages (from webdriver_manager) (24.2)\n",
      "Requirement already satisfied: six>=1.5 in /Users/haseebrahman/Desktop/Projects/.venv/lib/python3.13/site-packages (from python-dateutil>=2.8.2->pandas) (1.17.0)\n",
      "Requirement already satisfied: attrs>=23.2.0 in /Users/haseebrahman/Desktop/Projects/.venv/lib/python3.13/site-packages (from trio~=0.17->selenium) (25.2.0)\n",
      "Requirement already satisfied: sortedcontainers in /Users/haseebrahman/Desktop/Projects/.venv/lib/python3.13/site-packages (from trio~=0.17->selenium) (2.4.0)\n",
      "Requirement already satisfied: idna in /Users/haseebrahman/Desktop/Projects/.venv/lib/python3.13/site-packages (from trio~=0.17->selenium) (3.10)\n",
      "Requirement already satisfied: outcome in /Users/haseebrahman/Desktop/Projects/.venv/lib/python3.13/site-packages (from trio~=0.17->selenium) (1.3.0.post0)\n",
      "Requirement already satisfied: sniffio>=1.3.0 in /Users/haseebrahman/Desktop/Projects/.venv/lib/python3.13/site-packages (from trio~=0.17->selenium) (1.3.1)\n",
      "Requirement already satisfied: wsproto>=0.14 in /Users/haseebrahman/Desktop/Projects/.venv/lib/python3.13/site-packages (from trio-websocket~=0.9->selenium) (1.2.0)\n",
      "Requirement already satisfied: pysocks!=1.5.7,<2.0,>=1.5.6 in /Users/haseebrahman/Desktop/Projects/.venv/lib/python3.13/site-packages (from urllib3[socks]<3,>=1.26->selenium) (1.7.1)\n",
      "Requirement already satisfied: soupsieve>1.2 in /Users/haseebrahman/Desktop/Projects/.venv/lib/python3.13/site-packages (from beautifulsoup4->bs4) (2.6)\n",
      "Collecting charset-normalizer<4,>=2 (from requests->webdriver_manager)\n",
      "  Using cached charset_normalizer-3.4.1-cp313-cp313-macosx_10_13_universal2.whl.metadata (35 kB)\n",
      "Requirement already satisfied: h11<1,>=0.9.0 in /Users/haseebrahman/Desktop/Projects/.venv/lib/python3.13/site-packages (from wsproto>=0.14->trio-websocket~=0.9->selenium) (0.14.0)\n",
      "Using cached webdriver_manager-4.0.2-py2.py3-none-any.whl (27 kB)\n",
      "Using cached python_dotenv-1.0.1-py3-none-any.whl (19 kB)\n",
      "Using cached requests-2.32.3-py3-none-any.whl (64 kB)\n",
      "Using cached charset_normalizer-3.4.1-cp313-cp313-macosx_10_13_universal2.whl (195 kB)\n",
      "Installing collected packages: python-dotenv, charset-normalizer, requests, webdriver_manager\n",
      "Successfully installed charset-normalizer-3.4.1 python-dotenv-1.0.1 requests-2.32.3 webdriver_manager-4.0.2\n"
     ]
    }
   ],
   "source": [
    "!pip install pandas selenium bs4 webdriver_manager\n",
    "import pandas as pd\n",
    "from selenium import webdriver\n",
    "from selenium.webdriver.chrome.service import Service\n",
    "from webdriver_manager.chrome import ChromeDriverManager\n",
    "from bs4 import BeautifulSoup\n",
    "import time"
   ]
  },
  {
   "cell_type": "code",
   "execution_count": 13,
   "metadata": {},
   "outputs": [],
   "source": [
    "\n",
    "\n",
    "options = webdriver.ChromeOptions()\n",
    "options.add_argument(\"--headless\")\n",
    "service = Service(ChromeDriverManager().install())\n",
    "driver = webdriver.Chrome(service=service, options=options)\n",
    "\n",
    "url = \"https://www.fao.org/faostat/en/#data\"\n",
    "driver.get(url)\n",
    "\n",
    "time.sleep(5)\n",
    "\n",
    "html_content = driver.page_source\n",
    "\n",
    "soup = BeautifulSoup(html_content, \"html.parser\")\n",
    "\n",
    "subcategories = soup.find_all(\"li\", class_=\"domain-list\")\n",
    "\n",
    "base_url = \"https://www.fao.org/faostat/en/\"\n",
    "\n",
    "results = []\n",
    "for item in subcategories:\n",
    "    a_tag = item.find(\"a\", class_=\"instafilta-target\")\n",
    "    if a_tag:\n",
    "        subcategory_name = a_tag.get_text(strip=True)\n",
    "        subcategory_link = a_tag.get(\"href\")\n",
    "        if subcategory_link.startswith(\"#\"):\n",
    "            full_link = base_url + subcategory_link\n",
    "        else:\n",
    "            full_link = subcategory_link\n",
    "        results.append({\"Subcategory\": subcategory_name, \"FullLink\": full_link})\n",
    "\n",
    "driver.quit()\n",
    "\n",
    "df = pd.DataFrame(results)"
   ]
  },
  {
   "cell_type": "code",
   "execution_count": 19,
   "metadata": {},
   "outputs": [
    {
     "data": {
      "text/html": [
       "<div>\n",
       "<style scoped>\n",
       "    .dataframe tbody tr th:only-of-type {\n",
       "        vertical-align: middle;\n",
       "    }\n",
       "\n",
       "    .dataframe tbody tr th {\n",
       "        vertical-align: top;\n",
       "    }\n",
       "\n",
       "    .dataframe thead th {\n",
       "        text-align: right;\n",
       "    }\n",
       "</style>\n",
       "<table border=\"1\" class=\"dataframe\">\n",
       "  <thead>\n",
       "    <tr style=\"text-align: right;\">\n",
       "      <th></th>\n",
       "      <th>Subcategory</th>\n",
       "      <th>FullLink</th>\n",
       "    </tr>\n",
       "  </thead>\n",
       "  <tbody>\n",
       "    <tr>\n",
       "      <th>0</th>\n",
       "      <td>Crops and livestock products</td>\n",
       "      <td>https://www.fao.org/faostat/en/#data/QCL</td>\n",
       "    </tr>\n",
       "    <tr>\n",
       "      <th>1</th>\n",
       "      <td>Production Indices</td>\n",
       "      <td>https://www.fao.org/faostat/en/#data/QI</td>\n",
       "    </tr>\n",
       "    <tr>\n",
       "      <th>2</th>\n",
       "      <td>Value of Agricultural Production</td>\n",
       "      <td>https://www.fao.org/faostat/en/#data/QV</td>\n",
       "    </tr>\n",
       "    <tr>\n",
       "      <th>3</th>\n",
       "      <td>Suite of Food Security Indicators</td>\n",
       "      <td>https://www.fao.org/faostat/en/#data/FS</td>\n",
       "    </tr>\n",
       "    <tr>\n",
       "      <th>4</th>\n",
       "      <td>Food Balances (2010-)</td>\n",
       "      <td>https://www.fao.org/faostat/en/#data/FBS</td>\n",
       "    </tr>\n",
       "    <tr>\n",
       "      <th>...</th>\n",
       "      <td>...</td>\n",
       "      <td>...</td>\n",
       "    </tr>\n",
       "    <tr>\n",
       "      <th>62</th>\n",
       "      <td>Food Aid Shipments (WFP)</td>\n",
       "      <td>https://www.fao.org/faostat/en/#data/FA</td>\n",
       "    </tr>\n",
       "    <tr>\n",
       "      <th>63</th>\n",
       "      <td>Machinery</td>\n",
       "      <td>https://www.fao.org/faostat/en/#data/RM</td>\n",
       "    </tr>\n",
       "    <tr>\n",
       "      <th>64</th>\n",
       "      <td>Machinery Archive</td>\n",
       "      <td>https://www.fao.org/faostat/en/#data/RY</td>\n",
       "    </tr>\n",
       "    <tr>\n",
       "      <th>65</th>\n",
       "      <td>Fertilizers archive</td>\n",
       "      <td>https://www.fao.org/faostat/en/#data/RA</td>\n",
       "    </tr>\n",
       "    <tr>\n",
       "      <th>66</th>\n",
       "      <td>Producer Prices (old series)</td>\n",
       "      <td>https://www.fao.org/faostat/en/#data/PA</td>\n",
       "    </tr>\n",
       "  </tbody>\n",
       "</table>\n",
       "<p>67 rows × 2 columns</p>\n",
       "</div>"
      ],
      "text/plain": [
       "                          Subcategory  \\\n",
       "0        Crops and livestock products   \n",
       "1                  Production Indices   \n",
       "2    Value of Agricultural Production   \n",
       "3   Suite of Food Security Indicators   \n",
       "4               Food Balances (2010-)   \n",
       "..                                ...   \n",
       "62           Food Aid Shipments (WFP)   \n",
       "63                          Machinery   \n",
       "64                  Machinery Archive   \n",
       "65                Fertilizers archive   \n",
       "66       Producer Prices (old series)   \n",
       "\n",
       "                                    FullLink  \n",
       "0   https://www.fao.org/faostat/en/#data/QCL  \n",
       "1    https://www.fao.org/faostat/en/#data/QI  \n",
       "2    https://www.fao.org/faostat/en/#data/QV  \n",
       "3    https://www.fao.org/faostat/en/#data/FS  \n",
       "4   https://www.fao.org/faostat/en/#data/FBS  \n",
       "..                                       ...  \n",
       "62   https://www.fao.org/faostat/en/#data/FA  \n",
       "63   https://www.fao.org/faostat/en/#data/RM  \n",
       "64   https://www.fao.org/faostat/en/#data/RY  \n",
       "65   https://www.fao.org/faostat/en/#data/RA  \n",
       "66   https://www.fao.org/faostat/en/#data/PA  \n",
       "\n",
       "[67 rows x 2 columns]"
      ]
     },
     "execution_count": 19,
     "metadata": {},
     "output_type": "execute_result"
    }
   ],
   "source": [
    "df"
   ]
  },
  {
   "cell_type": "code",
   "execution_count": 20,
   "metadata": {},
   "outputs": [],
   "source": [
    "import os\n",
    "import time\n",
    "import io\n",
    "import requests\n",
    "import zipfile\n",
    "from bs4 import BeautifulSoup\n",
    "from selenium import webdriver\n",
    "from selenium.webdriver.chrome.service import Service\n",
    "from webdriver_manager.chrome import ChromeDriverManager\n",
    "\n",
    "\n",
    "def download_and_extract_normalized_data(\n",
    "    category_url, category_name, wait_time=5, max_retries=3\n",
    "):\n",
    "    \"\"\"\n",
    "    Downloads and extracts the \"All Data Normalized\" dataset for a given subcategory.\n",
    "    Retries up to max_retries times if the download link isn't found or download fails.\n",
    "\n",
    "    Parameters:\n",
    "      category_url (str): The URL of the subcategory page.\n",
    "      category_name (str): The name of the category. This will be used as the folder name.\n",
    "      wait_time (int): Seconds to wait for dynamic content to load (default is 5).\n",
    "      max_retries (int): Maximum number of attempts to retrieve and download the file.\n",
    "    \"\"\"\n",
    "    normalized_link = None\n",
    "    for attempt in range(1, max_retries + 1):\n",
    "        print(f\"Attempt {attempt} of {max_retries} to retrieve download link for {category_name}\")\n",
    "        options = webdriver.ChromeOptions()\n",
    "        options.add_argument(\"--headless\")\n",
    "        service = Service(ChromeDriverManager().install())\n",
    "        driver = webdriver.Chrome(service=service, options=options)\n",
    "\n",
    "        driver.get(category_url)\n",
    "        time.sleep(wait_time) \n",
    "        page_html = driver.page_source\n",
    "        driver.quit()\n",
    "\n",
    "\n",
    "        soup = BeautifulSoup(page_html, \"html.parser\")\n",
    "        bulk_section = soup.find(\n",
    "            \"div\", class_=\"panel-footer\", attrs={\"data-role\": \"bulk-downloads-panel\"}\n",
    "        )\n",
    "        if bulk_section:\n",
    "            for a_tag in bulk_section.find_all(\"a\"):\n",
    "                if \"All Data Normalized\" in a_tag.get_text():\n",
    "                    normalized_link = a_tag.get(\"data-bulkdownload\")\n",
    "                    break\n",
    "\n",
    "        if normalized_link:\n",
    "            print(\"Download link found:\", normalized_link)\n",
    "            break\n",
    "        else:\n",
    "            print(\n",
    "                \"Could not find the 'All Data Normalized' download link. Retrying in 3 seconds...\"\n",
    "            )\n",
    "            time.sleep(3)\n",
    "\n",
    "    if not normalized_link:\n",
    "        print(\"Failed to retrieve the download link after maximum retries.\")\n",
    "        return\n",
    "\n",
    "    folder_path = os.path.join(\"data\", category_name)\n",
    "    os.makedirs(folder_path, exist_ok=True)\n",
    "\n",
    "    success = False\n",
    "    for attempt in range(1, max_retries + 1):\n",
    "        print(f\"Attempt {attempt} of {max_retries} to download the file\")\n",
    "        response = requests.get(normalized_link)\n",
    "        if response.status_code == 200:\n",
    "            try:\n",
    "                with zipfile.ZipFile(io.BytesIO(response.content)) as zip_file:\n",
    "                    zip_file.extractall(folder_path)\n",
    "                print(f\"Extracted files to folder: {folder_path}\")\n",
    "                success = True\n",
    "                break\n",
    "            except Exception as e:\n",
    "                print(\"Error during extraction:\", e)\n",
    "        else:\n",
    "            print(\"Failed to download the file. Status code:\", response.status_code)\n",
    "\n",
    "        if not success:\n",
    "            print(\"Retrying download in 3 seconds...\")\n",
    "            time.sleep(3)\n",
    "\n",
    "    if not success:\n",
    "        print(\"Failed to download and extract the file after maximum retries.\")"
   ]
  },
  {
   "cell_type": "code",
   "execution_count": null,
   "metadata": {},
   "outputs": [
    {
     "name": "stderr",
     "output_type": "stream",
     "text": [
      "/Users/shaoormunir/studies/sta-220/project-data-collection/venv/lib/python3.12/site-packages/tqdm/auto.py:21: TqdmWarning: IProgress not found. Please update jupyter and ipywidgets. See https://ipywidgets.readthedocs.io/en/stable/user_install.html\n",
      "  from .autonotebook import tqdm as notebook_tqdm\n",
      "  0%|          | 0/67 [00:00<?, ?it/s]"
     ]
    },
    {
     "name": "stdout",
     "output_type": "stream",
     "text": [
      "Attempt 1 of 3 to retrieve download link for Crops and livestock products\n",
      "Download link found: https://bulks-faostat.fao.org/production/Production_Crops_Livestock_E_All_Data_(Normalized).zip\n",
      "Attempt 1 of 3 to download the file\n"
     ]
    },
    {
     "name": "stderr",
     "output_type": "stream",
     "text": [
      "  1%|▏         | 1/67 [00:08<09:14,  8.40s/it]"
     ]
    },
    {
     "name": "stdout",
     "output_type": "stream",
     "text": [
      "Extracted files to folder: data/Crops and livestock products\n",
      "Attempt 1 of 3 to retrieve download link for Production Indices\n",
      "Download link found: https://bulks-faostat.fao.org/production/Production_Indices_E_All_Data_(Normalized).zip\n",
      "Attempt 1 of 3 to download the file\n"
     ]
    },
    {
     "name": "stderr",
     "output_type": "stream",
     "text": [
      "  3%|▎         | 2/67 [00:17<09:27,  8.73s/it]"
     ]
    },
    {
     "name": "stdout",
     "output_type": "stream",
     "text": [
      "Extracted files to folder: data/Production Indices\n",
      "Attempt 1 of 3 to retrieve download link for Value of Agricultural Production\n",
      "Download link found: https://bulks-faostat.fao.org/production/Value_of_Production_E_All_Data_(Normalized).zip\n",
      "Attempt 1 of 3 to download the file\n"
     ]
    },
    {
     "name": "stderr",
     "output_type": "stream",
     "text": [
      "  4%|▍         | 3/67 [00:27<09:48,  9.19s/it]"
     ]
    },
    {
     "name": "stdout",
     "output_type": "stream",
     "text": [
      "Extracted files to folder: data/Value of Agricultural Production\n",
      "Attempt 1 of 3 to retrieve download link for Suite of Food Security Indicators\n",
      "Download link found: https://bulks-faostat.fao.org/production/Food_Security_Data_E_All_Data_(Normalized).zip\n",
      "Attempt 1 of 3 to download the file\n"
     ]
    },
    {
     "name": "stderr",
     "output_type": "stream",
     "text": [
      "  6%|▌         | 4/67 [00:35<09:21,  8.91s/it]"
     ]
    },
    {
     "name": "stdout",
     "output_type": "stream",
     "text": [
      "Extracted files to folder: data/Suite of Food Security Indicators\n",
      "Attempt 1 of 3 to retrieve download link for Food Balances (2010-)\n",
      "Download link found: https://bulks-faostat.fao.org/production/FoodBalanceSheets_E_All_Data_(Normalized).zip\n",
      "Attempt 1 of 3 to download the file\n"
     ]
    },
    {
     "name": "stderr",
     "output_type": "stream",
     "text": [
      "  7%|▋         | 5/67 [00:47<10:11,  9.87s/it]"
     ]
    },
    {
     "name": "stdout",
     "output_type": "stream",
     "text": [
      "Extracted files to folder: data/Food Balances (2010-)\n",
      "Attempt 1 of 3 to retrieve download link for Supply Utilization Accounts (2010-)\n",
      "Download link found: https://bulks-faostat.fao.org/production/SUA_Crops_Livestock_E_All_Data_(Normalized).zip\n",
      "Attempt 1 of 3 to download the file\n"
     ]
    },
    {
     "name": "stderr",
     "output_type": "stream",
     "text": [
      "  9%|▉         | 6/67 [00:59<10:45, 10.58s/it]"
     ]
    },
    {
     "name": "stdout",
     "output_type": "stream",
     "text": [
      "Extracted files to folder: data/Supply Utilization Accounts (2010-)\n",
      "Attempt 1 of 3 to retrieve download link for Commodity Balances (non-food) (2010-)\n",
      "Download link found: https://bulks-faostat.fao.org/production/CommodityBalances_(non-food)_(2010-)_E_All_Data_(Normalized).zip\n",
      "Attempt 1 of 3 to download the file\n"
     ]
    },
    {
     "name": "stderr",
     "output_type": "stream",
     "text": [
      " 10%|█         | 7/67 [01:07<09:49,  9.82s/it]"
     ]
    },
    {
     "name": "stdout",
     "output_type": "stream",
     "text": [
      "Extracted files to folder: data/Commodity Balances (non-food) (2010-)\n",
      "Attempt 1 of 3 to retrieve download link for Food Balances (-2013, old methodology and population)\n",
      "Download link found: https://bulks-faostat.fao.org/production/FoodBalanceSheetsHistoric_E_All_Data_(Normalized).zip\n",
      "Attempt 1 of 3 to download the file\n"
     ]
    },
    {
     "name": "stderr",
     "output_type": "stream",
     "text": [
      " 12%|█▏        | 8/67 [01:18<10:03, 10.23s/it]"
     ]
    },
    {
     "name": "stdout",
     "output_type": "stream",
     "text": [
      "Extracted files to folder: data/Food Balances (-2013, old methodology and population)\n",
      "Attempt 1 of 3 to retrieve download link for Commodity Balances (non-food) (-2013, old methodology)\n",
      "Download link found: https://bulks-faostat.fao.org/production/CommodityBalances_(non-food)_(-2013_old_methodology)_E_All_Data_(Normalized).zip\n",
      "Attempt 1 of 3 to download the file\n"
     ]
    },
    {
     "name": "stderr",
     "output_type": "stream",
     "text": [
      " 13%|█▎        | 9/67 [01:26<09:18,  9.63s/it]"
     ]
    },
    {
     "name": "stdout",
     "output_type": "stream",
     "text": [
      "Extracted files to folder: data/Commodity Balances (non-food) (-2013, old methodology)\n",
      "Attempt 1 of 3 to retrieve download link for Crops and livestock products\n",
      "Download link found: https://bulks-faostat.fao.org/production/Trade_CropsLivestock_E_All_Data_(Normalized).zip\n",
      "Attempt 1 of 3 to download the file\n"
     ]
    },
    {
     "name": "stderr",
     "output_type": "stream",
     "text": [
      " 15%|█▍        | 10/67 [02:08<18:35, 19.57s/it]"
     ]
    },
    {
     "name": "stdout",
     "output_type": "stream",
     "text": [
      "Extracted files to folder: data/Crops and livestock products\n",
      "Attempt 1 of 3 to retrieve download link for Detailed trade matrix\n",
      "Download link found: https://bulks-faostat.fao.org/production/Trade_DetailedTradeMatrix_E_All_Data_(Normalized).zip\n",
      "Attempt 1 of 3 to download the file\n"
     ]
    },
    {
     "name": "stderr",
     "output_type": "stream",
     "text": [
      " 16%|█▋        | 11/67 [02:34<20:09, 21.61s/it]"
     ]
    },
    {
     "name": "stdout",
     "output_type": "stream",
     "text": [
      "Extracted files to folder: data/Detailed trade matrix\n",
      "Attempt 1 of 3 to retrieve download link for Trade Indices\n",
      "Download link found: https://bulks-faostat.fao.org/production/Trade_Indices_E_All_Data_(Normalized).zip\n",
      "Attempt 1 of 3 to download the file\n"
     ]
    },
    {
     "name": "stderr",
     "output_type": "stream",
     "text": [
      " 18%|█▊        | 12/67 [02:49<17:44, 19.35s/it]"
     ]
    },
    {
     "name": "stdout",
     "output_type": "stream",
     "text": [
      "Extracted files to folder: data/Trade Indices\n",
      "Attempt 1 of 3 to retrieve download link for Crops and livestock products indicators\n",
      "Download link found: https://bulks-faostat.fao.org/production/Trade_CropsLivestockIndicators_E_All_Data_(Normalized).zip\n",
      "Attempt 1 of 3 to download the file\n"
     ]
    },
    {
     "name": "stderr",
     "output_type": "stream",
     "text": [
      " 19%|█▉        | 13/67 [02:57<14:22, 15.97s/it]"
     ]
    },
    {
     "name": "stdout",
     "output_type": "stream",
     "text": [
      "Extracted files to folder: data/Crops and livestock products indicators\n",
      "Attempt 1 of 3 to retrieve download link for Producer Prices\n",
      "Download link found: https://bulks-faostat.fao.org/production/Prices_E_All_Data_(Normalized).zip\n",
      "Attempt 1 of 3 to download the file\n"
     ]
    },
    {
     "name": "stderr",
     "output_type": "stream",
     "text": [
      " 21%|██        | 14/67 [03:06<12:27, 14.10s/it]"
     ]
    },
    {
     "name": "stdout",
     "output_type": "stream",
     "text": [
      "Extracted files to folder: data/Producer Prices\n",
      "Attempt 1 of 3 to retrieve download link for Consumer Price Indices\n",
      "Download link found: https://bulks-faostat.fao.org/production/ConsumerPriceIndices_E_All_Data_(Normalized).zip\n",
      "Attempt 1 of 3 to download the file\n"
     ]
    },
    {
     "name": "stderr",
     "output_type": "stream",
     "text": [
      " 22%|██▏       | 15/67 [03:15<10:45, 12.42s/it]"
     ]
    },
    {
     "name": "stdout",
     "output_type": "stream",
     "text": [
      "Extracted files to folder: data/Consumer Price Indices\n",
      "Attempt 1 of 3 to retrieve download link for Deflators\n",
      "Download link found: https://bulks-faostat.fao.org/production/Deflators_E_All_Data_(Normalized).zip\n",
      "Attempt 1 of 3 to download the file\n"
     ]
    },
    {
     "name": "stderr",
     "output_type": "stream",
     "text": [
      " 24%|██▍       | 16/67 [03:23<09:27, 11.13s/it]"
     ]
    },
    {
     "name": "stdout",
     "output_type": "stream",
     "text": [
      "Extracted files to folder: data/Deflators\n",
      "Attempt 1 of 3 to retrieve download link for Exchange rates\n",
      "Download link found: https://bulks-faostat.fao.org/production/Exchange_rate_E_All_Data_(Normalized).zip\n",
      "Attempt 1 of 3 to download the file\n"
     ]
    },
    {
     "name": "stderr",
     "output_type": "stream",
     "text": [
      " 25%|██▌       | 17/67 [03:31<08:34, 10.28s/it]"
     ]
    },
    {
     "name": "stdout",
     "output_type": "stream",
     "text": [
      "Extracted files to folder: data/Exchange rates\n",
      "Attempt 1 of 3 to retrieve download link for Cost and Affordability of a Healthy Diet (CoAHD)\n",
      "Download link found: https://bulks-faostat.fao.org/production/Cost_Affordability_Healthy_Diet_(CoAHD)_E_All_Data_(Normalized).zip\n",
      "Attempt 1 of 3 to download the file\n"
     ]
    },
    {
     "name": "stderr",
     "output_type": "stream",
     "text": [
      " 27%|██▋       | 18/67 [03:39<07:48,  9.56s/it]"
     ]
    },
    {
     "name": "stdout",
     "output_type": "stream",
     "text": [
      "Extracted files to folder: data/Cost and Affordability of a Healthy Diet (CoAHD)\n",
      "Attempt 1 of 3 to retrieve download link for Availability (based on supply utilization accounts)\n",
      "Download link found: https://bulks-faostat.fao.org/production/Supply_Utilization_Accounts_Food_and_Diet_E_All_Data_(Normalized).zip\n",
      "Attempt 1 of 3 to download the file\n"
     ]
    },
    {
     "name": "stderr",
     "output_type": "stream",
     "text": [
      " 28%|██▊       | 19/67 [03:48<07:26,  9.29s/it]"
     ]
    },
    {
     "name": "stdout",
     "output_type": "stream",
     "text": [
      "Extracted files to folder: data/Availability (based on supply utilization accounts)\n",
      "Attempt 1 of 3 to retrieve download link for Apparent intake (based on household consumption and expenditure surveys)\n",
      "Download link found: https://bulks-faostat.fao.org/production/Household_Consumption_and_Expenditure_Surveys_Food_and_Diet_E_All_Data_(Normalized).zip\n",
      "Attempt 1 of 3 to download the file\n"
     ]
    },
    {
     "name": "stderr",
     "output_type": "stream",
     "text": [
      " 30%|██▉       | 20/67 [03:56<07:01,  8.98s/it]"
     ]
    },
    {
     "name": "stdout",
     "output_type": "stream",
     "text": [
      "Extracted files to folder: data/Apparent intake (based on household consumption and expenditure surveys)\n",
      "Attempt 1 of 3 to retrieve download link for Intake (based on individual quantitative dietary surveys)\n",
      "Download link found: https://bulks-faostat.fao.org/production/Individual_Quantitative_Dietary_Data_Food_and_Diet_E_All_Data_(Normalized).zip\n",
      "Attempt 1 of 3 to download the file\n"
     ]
    },
    {
     "name": "stderr",
     "output_type": "stream",
     "text": [
      " 31%|███▏      | 21/67 [04:05<06:50,  8.93s/it]"
     ]
    },
    {
     "name": "stdout",
     "output_type": "stream",
     "text": [
      "Extracted files to folder: data/Intake (based on individual quantitative dietary surveys)\n",
      "Attempt 1 of 3 to retrieve download link for Diversity (MDD-W, based on individual qualitative dietary surveys)\n",
      "Download link found: https://bulks-faostat.fao.org/production/Minimum_Dietary_Diversity_for_Women_(MDD-W)_Food_and_Diet_E_All_Data_(Normalized).zip\n",
      "Attempt 1 of 3 to download the file\n"
     ]
    },
    {
     "name": "stderr",
     "output_type": "stream",
     "text": [
      " 33%|███▎      | 22/67 [04:13<06:26,  8.58s/it]"
     ]
    },
    {
     "name": "stdout",
     "output_type": "stream",
     "text": [
      "Extracted files to folder: data/Diversity (MDD-W, based on individual qualitative dietary surveys)\n",
      "Attempt 1 of 3 to retrieve download link for Land Use\n",
      "Download link found: https://bulks-faostat.fao.org/production/Inputs_LandUse_E_All_Data_(Normalized).zip\n",
      "Attempt 1 of 3 to download the file\n"
     ]
    },
    {
     "name": "stderr",
     "output_type": "stream",
     "text": [
      " 34%|███▍      | 23/67 [04:21<06:15,  8.53s/it]"
     ]
    },
    {
     "name": "stdout",
     "output_type": "stream",
     "text": [
      "Extracted files to folder: data/Land Use\n",
      "Attempt 1 of 3 to retrieve download link for Land Cover\n",
      "Download link found: https://bulks-faostat.fao.org/production/Environment_LandCover_E_All_Data_(Normalized).zip\n",
      "Attempt 1 of 3 to download the file\n"
     ]
    },
    {
     "name": "stderr",
     "output_type": "stream",
     "text": [
      " 36%|███▌      | 24/67 [04:29<05:57,  8.30s/it]"
     ]
    },
    {
     "name": "stdout",
     "output_type": "stream",
     "text": [
      "Extracted files to folder: data/Land Cover\n",
      "Attempt 1 of 3 to retrieve download link for Fertilizers by Nutrient\n",
      "Download link found: https://bulks-faostat.fao.org/production/Inputs_FertilizersNutrient_E_All_Data_(Normalized).zip\n",
      "Attempt 1 of 3 to download the file\n"
     ]
    },
    {
     "name": "stderr",
     "output_type": "stream",
     "text": [
      " 37%|███▋      | 25/67 [04:38<05:51,  8.37s/it]"
     ]
    },
    {
     "name": "stdout",
     "output_type": "stream",
     "text": [
      "Extracted files to folder: data/Fertilizers by Nutrient\n",
      "Attempt 1 of 3 to retrieve download link for Fertilizers by Product\n",
      "Download link found: https://bulks-faostat.fao.org/production/Inputs_FertilizersProduct_E_All_Data_(Normalized).zip\n",
      "Attempt 1 of 3 to download the file\n"
     ]
    },
    {
     "name": "stderr",
     "output_type": "stream",
     "text": [
      " 39%|███▉      | 26/67 [04:46<05:43,  8.38s/it]"
     ]
    },
    {
     "name": "stdout",
     "output_type": "stream",
     "text": [
      "Extracted files to folder: data/Fertilizers by Product\n",
      "Attempt 1 of 3 to retrieve download link for Detailed trade matrix (fertilizers)\n",
      "Download link found: https://bulks-faostat.fao.org/production/Fertilizers_DetailedTradeMatrix_E_All_Data_(Normalized).zip\n",
      "Attempt 1 of 3 to download the file\n"
     ]
    },
    {
     "name": "stderr",
     "output_type": "stream",
     "text": [
      " 40%|████      | 27/67 [04:57<06:02,  9.06s/it]"
     ]
    },
    {
     "name": "stdout",
     "output_type": "stream",
     "text": [
      "Extracted files to folder: data/Detailed trade matrix (fertilizers)\n",
      "Attempt 1 of 3 to retrieve download link for Livestock Manure\n",
      "Download link found: https://bulks-faostat.fao.org/production/Environment_LivestockManure_E_All_Data_(Normalized).zip\n",
      "Attempt 1 of 3 to download the file\n"
     ]
    },
    {
     "name": "stderr",
     "output_type": "stream",
     "text": [
      " 42%|████▏     | 28/67 [05:06<05:57,  9.17s/it]"
     ]
    },
    {
     "name": "stdout",
     "output_type": "stream",
     "text": [
      "Extracted files to folder: data/Livestock Manure\n",
      "Attempt 1 of 3 to retrieve download link for Pesticides Use\n",
      "Download link found: https://bulks-faostat.fao.org/production/Inputs_Pesticides_Use_E_All_Data_(Normalized).zip\n",
      "Attempt 1 of 3 to download the file\n"
     ]
    },
    {
     "name": "stderr",
     "output_type": "stream",
     "text": [
      " 43%|████▎     | 29/67 [05:14<05:38,  8.90s/it]"
     ]
    },
    {
     "name": "stdout",
     "output_type": "stream",
     "text": [
      "Extracted files to folder: data/Pesticides Use\n",
      "Attempt 1 of 3 to retrieve download link for Pesticides Trade\n",
      "Download link found: https://bulks-faostat.fao.org/production/Inputs_Pesticides_Trade_E_All_Data_(Normalized).zip\n",
      "Attempt 1 of 3 to download the file\n"
     ]
    },
    {
     "name": "stderr",
     "output_type": "stream",
     "text": [
      " 45%|████▍     | 30/67 [05:23<05:22,  8.72s/it]"
     ]
    },
    {
     "name": "stdout",
     "output_type": "stream",
     "text": [
      "Extracted files to folder: data/Pesticides Trade\n",
      "Attempt 1 of 3 to retrieve download link for Cropland Nutrient Balance\n",
      "Download link found: https://bulks-faostat.fao.org/production/Environment_Cropland_nutrient_budget_E_All_Data_(Normalized).zip\n",
      "Attempt 1 of 3 to download the file\n"
     ]
    },
    {
     "name": "stderr",
     "output_type": "stream",
     "text": [
      " 46%|████▋     | 31/67 [05:31<05:15,  8.77s/it]"
     ]
    },
    {
     "name": "stdout",
     "output_type": "stream",
     "text": [
      "Extracted files to folder: data/Cropland Nutrient Balance\n",
      "Attempt 1 of 3 to retrieve download link for Livestock Patterns\n",
      "Download link found: https://bulks-faostat.fao.org/production/Environment_LivestockPatterns_E_All_Data_(Normalized).zip\n",
      "Attempt 1 of 3 to download the file\n"
     ]
    },
    {
     "name": "stderr",
     "output_type": "stream",
     "text": [
      " 48%|████▊     | 32/67 [05:40<05:04,  8.71s/it]"
     ]
    },
    {
     "name": "stdout",
     "output_type": "stream",
     "text": [
      "Extracted files to folder: data/Livestock Patterns\n",
      "Attempt 1 of 3 to retrieve download link for Bioenergy\n",
      "Download link found: https://bulks-faostat.fao.org/production/Environment_Bioenergy_E_All_Data_(Normalized).zip\n",
      "Attempt 1 of 3 to download the file\n"
     ]
    },
    {
     "name": "stderr",
     "output_type": "stream",
     "text": [
      " 49%|████▉     | 33/67 [05:48<04:44,  8.37s/it]"
     ]
    },
    {
     "name": "stdout",
     "output_type": "stream",
     "text": [
      "Extracted files to folder: data/Bioenergy\n",
      "Attempt 1 of 3 to retrieve download link for Temperature change on land\n",
      "Download link found: https://bulks-faostat.fao.org/production/Environment_Temperature_change_E_All_Data_(Normalized).zip\n",
      "Attempt 1 of 3 to download the file\n"
     ]
    },
    {
     "name": "stderr",
     "output_type": "stream",
     "text": [
      " 51%|█████     | 34/67 [05:58<04:51,  8.84s/it]"
     ]
    },
    {
     "name": "stdout",
     "output_type": "stream",
     "text": [
      "Extracted files to folder: data/Temperature change on land\n",
      "Attempt 1 of 3 to retrieve download link for Annual population\n",
      "Download link found: https://bulks-faostat.fao.org/production/Population_E_All_Data_(Normalized).zip\n",
      "Attempt 1 of 3 to download the file\n"
     ]
    },
    {
     "name": "stderr",
     "output_type": "stream",
     "text": [
      " 52%|█████▏    | 35/67 [06:06<04:38,  8.71s/it]"
     ]
    },
    {
     "name": "stdout",
     "output_type": "stream",
     "text": [
      "Extracted files to folder: data/Annual population\n",
      "Attempt 1 of 3 to retrieve download link for Employment Indicators: Agriculture and agrifood systems\n",
      "Download link found: https://bulks-faostat.fao.org/production/Employment_Indicators_Agriculture_E_All_Data_(Normalized).zip\n",
      "Attempt 1 of 3 to download the file\n"
     ]
    },
    {
     "name": "stderr",
     "output_type": "stream",
     "text": [
      " 54%|█████▎    | 36/67 [06:14<04:27,  8.63s/it]"
     ]
    },
    {
     "name": "stdout",
     "output_type": "stream",
     "text": [
      "Extracted files to folder: data/Employment Indicators: Agriculture and agrifood systems\n",
      "Attempt 1 of 3 to retrieve download link for Employment Indicators: Rural\n",
      "Download link found: https://bulks-faostat.fao.org/production/Employment_Indicators_Rural_E_All_Data_(Normalized).zip\n",
      "Attempt 1 of 3 to download the file\n"
     ]
    },
    {
     "name": "stderr",
     "output_type": "stream",
     "text": [
      " 55%|█████▌    | 37/67 [06:22<04:09,  8.32s/it]"
     ]
    },
    {
     "name": "stdout",
     "output_type": "stream",
     "text": [
      "Extracted files to folder: data/Employment Indicators: Rural\n",
      "Attempt 1 of 3 to retrieve download link for Government Expenditure\n",
      "Download link found: https://bulks-faostat.fao.org/production/Investment_GovernmentExpenditure_E_All_Data_(Normalized).zip\n",
      "Attempt 1 of 3 to download the file\n"
     ]
    },
    {
     "name": "stderr",
     "output_type": "stream",
     "text": [
      " 57%|█████▋    | 38/67 [06:30<04:01,  8.33s/it]"
     ]
    },
    {
     "name": "stdout",
     "output_type": "stream",
     "text": [
      "Extracted files to folder: data/Government Expenditure\n",
      "Attempt 1 of 3 to retrieve download link for Credit to Agriculture\n",
      "Download link found: https://bulks-faostat.fao.org/production/Investment_CreditAgriculture_E_All_Data_(Normalized).zip\n",
      "Attempt 1 of 3 to download the file\n"
     ]
    },
    {
     "name": "stderr",
     "output_type": "stream",
     "text": [
      " 58%|█████▊    | 39/67 [06:39<03:52,  8.29s/it]"
     ]
    },
    {
     "name": "stdout",
     "output_type": "stream",
     "text": [
      "Extracted files to folder: data/Credit to Agriculture\n",
      "Attempt 1 of 3 to retrieve download link for Development Flows to Agriculture\n",
      "Download link found: https://bulks-faostat.fao.org/production/Development_Assistance_to_Agriculture_E_All_Data_(Normalized).zip\n",
      "Attempt 1 of 3 to download the file\n"
     ]
    },
    {
     "name": "stderr",
     "output_type": "stream",
     "text": [
      " 60%|█████▉    | 40/67 [06:53<04:29, 10.00s/it]"
     ]
    },
    {
     "name": "stdout",
     "output_type": "stream",
     "text": [
      "Extracted files to folder: data/Development Flows to Agriculture\n",
      "Attempt 1 of 3 to retrieve download link for Foreign Direct Investment (FDI)\n",
      "Download link found: https://bulks-faostat.fao.org/production/Investment_ForeignDirectInvestment_E_All_Data_(Normalized).zip\n",
      "Attempt 1 of 3 to download the file\n"
     ]
    },
    {
     "name": "stderr",
     "output_type": "stream",
     "text": [
      " 61%|██████    | 41/67 [07:01<04:05,  9.46s/it]"
     ]
    },
    {
     "name": "stdout",
     "output_type": "stream",
     "text": [
      "Extracted files to folder: data/Foreign Direct Investment (FDI)\n",
      "Attempt 1 of 3 to retrieve download link for Country Investment Statistics Profile\n",
      "Download link found: https://bulks-faostat.fao.org/production/Investment_CountryInvestmentStatisticsProfile_E_All_Data_(Normalized).zip\n",
      "Attempt 1 of 3 to download the file\n"
     ]
    },
    {
     "name": "stderr",
     "output_type": "stream",
     "text": [
      " 63%|██████▎   | 42/67 [07:09<03:48,  9.14s/it]"
     ]
    },
    {
     "name": "stdout",
     "output_type": "stream",
     "text": [
      "Extracted files to folder: data/Country Investment Statistics Profile\n",
      "Attempt 1 of 3 to retrieve download link for Macro Indicators\n",
      "Download link found: https://bulks-faostat.fao.org/production/Macro-Statistics_Key_Indicators_E_All_Data_(Normalized).zip\n",
      "Attempt 1 of 3 to download the file\n"
     ]
    },
    {
     "name": "stderr",
     "output_type": "stream",
     "text": [
      " 64%|██████▍   | 43/67 [07:18<03:36,  9.04s/it]"
     ]
    },
    {
     "name": "stdout",
     "output_type": "stream",
     "text": [
      "Extracted files to folder: data/Macro Indicators\n",
      "Attempt 1 of 3 to retrieve download link for Capital Stock\n",
      "Download link found: https://bulks-faostat.fao.org/production/Investment_CapitalStock_E_All_Data_(Normalized).zip\n",
      "Attempt 1 of 3 to download the file\n"
     ]
    },
    {
     "name": "stderr",
     "output_type": "stream",
     "text": [
      " 66%|██████▌   | 44/67 [07:26<03:23,  8.83s/it]"
     ]
    },
    {
     "name": "stdout",
     "output_type": "stream",
     "text": [
      "Extracted files to folder: data/Capital Stock\n",
      "Attempt 1 of 3 to retrieve download link for Value shares by industry and primary factors\n",
      "Download link found: https://bulks-faostat.fao.org/production/Value_shares_industry_primary_factors_E_All_Data_(Normalized).zip\n",
      "Attempt 1 of 3 to download the file\n"
     ]
    },
    {
     "name": "stderr",
     "output_type": "stream",
     "text": [
      " 67%|██████▋   | 45/67 [07:34<03:07,  8.53s/it]"
     ]
    },
    {
     "name": "stdout",
     "output_type": "stream",
     "text": [
      "Extracted files to folder: data/Value shares by industry and primary factors\n",
      "Attempt 1 of 3 to retrieve download link for Emissions totals\n",
      "Download link found: https://bulks-faostat.fao.org/production/Emissions_Totals_E_All_Data_(Normalized).zip\n",
      "Attempt 1 of 3 to download the file\n"
     ]
    },
    {
     "name": "stderr",
     "output_type": "stream",
     "text": [
      " 69%|██████▊   | 46/67 [07:43<03:03,  8.73s/it]"
     ]
    },
    {
     "name": "stdout",
     "output_type": "stream",
     "text": [
      "Extracted files to folder: data/Emissions totals\n",
      "Attempt 1 of 3 to retrieve download link for Emissions indicators\n",
      "Download link found: https://bulks-faostat.fao.org/production/Climate_change_Emissions_indicators_E_All_Data_(Normalized).zip\n",
      "Attempt 1 of 3 to download the file\n"
     ]
    },
    {
     "name": "stderr",
     "output_type": "stream",
     "text": [
      " 70%|███████   | 47/67 [07:52<02:56,  8.81s/it]"
     ]
    },
    {
     "name": "stdout",
     "output_type": "stream",
     "text": [
      "Extracted files to folder: data/Emissions indicators\n",
      "Attempt 1 of 3 to retrieve download link for Emissions intensities\n",
      "Download link found: https://bulks-faostat.fao.org/production/Environment_Emissions_intensities_E_All_Data_(Normalized).zip\n",
      "Attempt 1 of 3 to download the file\n"
     ]
    },
    {
     "name": "stderr",
     "output_type": "stream",
     "text": [
      " 72%|███████▏  | 48/67 [08:00<02:43,  8.59s/it]"
     ]
    },
    {
     "name": "stdout",
     "output_type": "stream",
     "text": [
      "Extracted files to folder: data/Emissions intensities\n",
      "Attempt 1 of 3 to retrieve download link for Emissions from Crops\n",
      "Download link found: https://bulks-faostat.fao.org/production/Emissions_crops_E_All_Data_(Normalized).zip\n",
      "Attempt 1 of 3 to download the file\n"
     ]
    },
    {
     "name": "stderr",
     "output_type": "stream",
     "text": [
      " 73%|███████▎  | 49/67 [08:09<02:35,  8.63s/it]"
     ]
    },
    {
     "name": "stdout",
     "output_type": "stream",
     "text": [
      "Extracted files to folder: data/Emissions from Crops\n",
      "Attempt 1 of 3 to retrieve download link for Emissions from Livestock\n",
      "Download link found: https://bulks-faostat.fao.org/production/Emissions_livestock_E_All_Data_(Normalized).zip\n",
      "Attempt 1 of 3 to download the file\n"
     ]
    },
    {
     "name": "stderr",
     "output_type": "stream",
     "text": [
      " 75%|███████▍  | 50/67 [08:20<02:39,  9.41s/it]"
     ]
    },
    {
     "name": "stdout",
     "output_type": "stream",
     "text": [
      "Extracted files to folder: data/Emissions from Livestock\n",
      "Attempt 1 of 3 to retrieve download link for Emissions from Energy use in agriculture\n",
      "Download link found: https://bulks-faostat.fao.org/production/Emissions_Agriculture_Energy_E_All_Data_(Normalized).zip\n",
      "Attempt 1 of 3 to download the file\n"
     ]
    },
    {
     "name": "stderr",
     "output_type": "stream",
     "text": [
      " 76%|███████▌  | 51/67 [08:29<02:25,  9.08s/it]"
     ]
    },
    {
     "name": "stdout",
     "output_type": "stream",
     "text": [
      "Extracted files to folder: data/Emissions from Energy use in agriculture\n",
      "Attempt 1 of 3 to retrieve download link for Emissions from Forests\n",
      "Download link found: https://bulks-faostat.fao.org/production/Emissions_Land_Use_Forests_E_All_Data_(Normalized).zip\n",
      "Attempt 1 of 3 to download the file\n"
     ]
    },
    {
     "name": "stderr",
     "output_type": "stream",
     "text": [
      " 78%|███████▊  | 52/67 [08:39<02:22,  9.48s/it]"
     ]
    },
    {
     "name": "stdout",
     "output_type": "stream",
     "text": [
      "Extracted files to folder: data/Emissions from Forests\n",
      "Attempt 1 of 3 to retrieve download link for Emissions from Fires\n",
      "Download link found: https://bulks-faostat.fao.org/production/Emissions_Land_Use_Fires_E_All_Data_(Normalized).zip\n",
      "Attempt 1 of 3 to download the file\n"
     ]
    },
    {
     "name": "stderr",
     "output_type": "stream",
     "text": [
      " 79%|███████▉  | 53/67 [08:48<02:09,  9.24s/it]"
     ]
    },
    {
     "name": "stdout",
     "output_type": "stream",
     "text": [
      "Extracted files to folder: data/Emissions from Fires\n",
      "Attempt 1 of 3 to retrieve download link for Emissions from Drained organic soils\n",
      "Download link found: https://bulks-faostat.fao.org/production/Emissions_Drained_Organic_Soils_E_All_Data_(Normalized).zip\n",
      "Attempt 1 of 3 to download the file\n"
     ]
    },
    {
     "name": "stderr",
     "output_type": "stream",
     "text": [
      " 81%|████████  | 54/67 [08:56<01:56,  8.92s/it]"
     ]
    },
    {
     "name": "stdout",
     "output_type": "stream",
     "text": [
      "Extracted files to folder: data/Emissions from Drained organic soils\n",
      "Attempt 1 of 3 to retrieve download link for Emissions from pre and post agricultural production\n",
      "Download link found: https://bulks-faostat.fao.org/production/Emissions_Pre_Post_Production_E_All_Data_(Normalized).zip\n",
      "Attempt 1 of 3 to download the file\n"
     ]
    },
    {
     "name": "stderr",
     "output_type": "stream",
     "text": [
      " 82%|████████▏ | 55/67 [09:05<01:46,  8.88s/it]"
     ]
    },
    {
     "name": "stdout",
     "output_type": "stream",
     "text": [
      "Extracted files to folder: data/Emissions from pre and post agricultural production\n",
      "Attempt 1 of 3 to retrieve download link for Forestry Production and Trade\n",
      "Download link found: https://bulks-faostat.fao.org/production/Forestry_E_All_Data_(Normalized).zip\n",
      "Attempt 1 of 3 to download the file\n"
     ]
    },
    {
     "name": "stderr",
     "output_type": "stream",
     "text": [
      " 84%|████████▎ | 56/67 [09:13<01:37,  8.82s/it]"
     ]
    },
    {
     "name": "stdout",
     "output_type": "stream",
     "text": [
      "Extracted files to folder: data/Forestry Production and Trade\n",
      "Attempt 1 of 3 to retrieve download link for SDG Indicators\n",
      "Download link found: https://bulks-faostat.fao.org/production/SDG_BulkDownloads_E_All_Data_(Normalized).zip\n",
      "Attempt 1 of 3 to download the file\n"
     ]
    },
    {
     "name": "stderr",
     "output_type": "stream",
     "text": [
      " 85%|████████▌ | 57/67 [09:24<01:34,  9.45s/it]"
     ]
    },
    {
     "name": "stdout",
     "output_type": "stream",
     "text": [
      "Extracted files to folder: data/SDG Indicators\n",
      "Attempt 1 of 3 to retrieve download link for Structural data from agricultural censuses\n",
      "Download link found: https://bulks-faostat.fao.org/production/World_Census_Agriculture_E_All_Data_(Normalized).zip\n",
      "Attempt 1 of 3 to download the file\n"
     ]
    },
    {
     "name": "stderr",
     "output_type": "stream",
     "text": [
      " 87%|████████▋ | 58/67 [09:33<01:22,  9.12s/it]"
     ]
    },
    {
     "name": "stdout",
     "output_type": "stream",
     "text": [
      "Extracted files to folder: data/Structural data from agricultural censuses\n",
      "Attempt 1 of 3 to retrieve download link for Forestry Trade Flows\n",
      "Download link found: https://bulks-faostat.fao.org/production/Forestry_Trade_Flows_E_All_Data_(Normalized).zip\n",
      "Attempt 1 of 3 to download the file\n"
     ]
    },
    {
     "name": "stderr",
     "output_type": "stream",
     "text": [
      " 88%|████████▊ | 59/67 [09:42<01:14,  9.30s/it]"
     ]
    },
    {
     "name": "stdout",
     "output_type": "stream",
     "text": [
      "Extracted files to folder: data/Forestry Trade Flows\n",
      "Attempt 1 of 3 to retrieve download link for Indicators from Household Surveys (gender, area, socioeconomics)\n",
      "Download link found: https://bulks-faostat.fao.org/production/Indicators_from_Household_Surveys_E_All_Data_(Normalized).zip\n",
      "Attempt 1 of 3 to download the file\n"
     ]
    },
    {
     "name": "stderr",
     "output_type": "stream",
     "text": [
      " 90%|████████▉ | 60/67 [09:50<01:01,  8.83s/it]"
     ]
    },
    {
     "name": "stdout",
     "output_type": "stream",
     "text": [
      "Extracted files to folder: data/Indicators from Household Surveys (gender, area, socioeconomics)\n",
      "Attempt 1 of 3 to retrieve download link for ASTI-Researchers\n",
      "Download link found: https://bulks-faostat.fao.org/production/ASTI_Researchers_E_All_Data_(Normalized).zip\n",
      "Attempt 1 of 3 to download the file\n"
     ]
    },
    {
     "name": "stderr",
     "output_type": "stream",
     "text": [
      " 91%|█████████ | 61/67 [09:57<00:50,  8.35s/it]"
     ]
    },
    {
     "name": "stdout",
     "output_type": "stream",
     "text": [
      "Extracted files to folder: data/ASTI-Researchers\n",
      "Attempt 1 of 3 to retrieve download link for ASTI-Expenditures\n",
      "Download link found: https://bulks-faostat.fao.org/production/ASTI_Expenditures_E_All_Data_(Normalized).zip\n",
      "Attempt 1 of 3 to download the file\n"
     ]
    },
    {
     "name": "stderr",
     "output_type": "stream",
     "text": [
      " 93%|█████████▎| 62/67 [10:05<00:40,  8.14s/it]"
     ]
    },
    {
     "name": "stdout",
     "output_type": "stream",
     "text": [
      "Extracted files to folder: data/ASTI-Expenditures\n",
      "Attempt 1 of 3 to retrieve download link for Food Aid Shipments (WFP)\n",
      "Download link found: https://bulks-faostat.fao.org/production/Food_Aid_Shipments_WFP_E_All_Data_(Normalized).zip\n",
      "Attempt 1 of 3 to download the file\n"
     ]
    },
    {
     "name": "stderr",
     "output_type": "stream",
     "text": [
      " 94%|█████████▍| 63/67 [10:13<00:32,  8.08s/it]"
     ]
    },
    {
     "name": "stdout",
     "output_type": "stream",
     "text": [
      "Extracted files to folder: data/Food Aid Shipments (WFP)\n",
      "Attempt 1 of 3 to retrieve download link for Machinery\n",
      "Download link found: https://bulks-faostat.fao.org/production/Investment_Machinery_E_All_Data_(Normalized).zip\n",
      "Attempt 1 of 3 to download the file\n"
     ]
    },
    {
     "name": "stderr",
     "output_type": "stream",
     "text": [
      " 96%|█████████▌| 64/67 [10:21<00:24,  8.17s/it]"
     ]
    },
    {
     "name": "stdout",
     "output_type": "stream",
     "text": [
      "Extracted files to folder: data/Machinery\n",
      "Attempt 1 of 3 to retrieve download link for Machinery Archive\n",
      "Download link found: https://bulks-faostat.fao.org/production/Investment_MachineryArchive_E_All_Data_(Normalized).zip\n",
      "Attempt 1 of 3 to download the file\n"
     ]
    },
    {
     "name": "stderr",
     "output_type": "stream",
     "text": [
      " 97%|█████████▋| 65/67 [10:30<00:16,  8.29s/it]"
     ]
    },
    {
     "name": "stdout",
     "output_type": "stream",
     "text": [
      "Extracted files to folder: data/Machinery Archive\n",
      "Attempt 1 of 3 to retrieve download link for Fertilizers archive\n",
      "Download link found: https://bulks-faostat.fao.org/production/Inputs_FertilizersArchive_E_All_Data_(Normalized).zip\n",
      "Attempt 1 of 3 to download the file\n"
     ]
    },
    {
     "name": "stderr",
     "output_type": "stream",
     "text": [
      " 99%|█████████▊| 66/67 [10:38<00:08,  8.30s/it]"
     ]
    },
    {
     "name": "stdout",
     "output_type": "stream",
     "text": [
      "Extracted files to folder: data/Fertilizers archive\n",
      "Attempt 1 of 3 to retrieve download link for Producer Prices (old series)\n",
      "Download link found: https://bulks-faostat.fao.org/production/PricesArchive_E_All_Data_(Normalized).zip\n",
      "Attempt 1 of 3 to download the file\n"
     ]
    },
    {
     "name": "stderr",
     "output_type": "stream",
     "text": [
      "100%|██████████| 67/67 [10:47<00:00,  9.66s/it]"
     ]
    },
    {
     "name": "stdout",
     "output_type": "stream",
     "text": [
      "Extracted files to folder: data/Producer Prices (old series)\n"
     ]
    },
    {
     "name": "stderr",
     "output_type": "stream",
     "text": [
      "\n"
     ]
    }
   ],
   "source": [
    "from tqdm.auto import tqdm\n",
    "\n",
    "for index, row in tqdm(df.iterrows(), total=len(df)):\n",
    "    download_and_extract_normalized_data(row[\"FullLink\"], row[\"Subcategory\"])"
   ]
  }
 ],
 "metadata": {
  "kernelspec": {
   "display_name": ".venv",
   "language": "python",
   "name": "python3"
  },
  "language_info": {
   "codemirror_mode": {
    "name": "ipython",
    "version": 3
   },
   "file_extension": ".py",
   "mimetype": "text/x-python",
   "name": "python",
   "nbconvert_exporter": "python",
   "pygments_lexer": "ipython3",
   "version": "3.13.2"
  }
 },
 "nbformat": 4,
 "nbformat_minor": 2
}
